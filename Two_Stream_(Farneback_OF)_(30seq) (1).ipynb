{
  "nbformat": 4,
  "nbformat_minor": 0,
  "metadata": {
    "colab": {
      "name": "Two-Stream (Farneback OF) (30seq) ",
      "provenance": [],
      "collapsed_sections": [],
      "machine_shape": "hm"
    },
    "kernelspec": {
      "name": "python3",
      "display_name": "Python 3"
    },
    "accelerator": "GPU"
  },
  "cells": [
    {
      "cell_type": "code",
      "metadata": {
        "id": "3WYkEKe5z1Ie",
        "colab_type": "code",
        "colab": {}
      },
      "source": [
        "from google.colab import drive\n",
        "drive.mount('/content/drive')"
      ],
      "execution_count": 0,
      "outputs": []
    },
    {
      "cell_type": "code",
      "metadata": {
        "id": "m19Dkm9uw-wP",
        "colab_type": "code",
        "colab": {}
      },
      "source": [
        "!mkdir dataset"
      ],
      "execution_count": 0,
      "outputs": []
    },
    {
      "cell_type": "code",
      "metadata": {
        "id": "jWlF8ieexAIU",
        "colab_type": "code",
        "colab": {}
      },
      "source": [
        "!mkdir data"
      ],
      "execution_count": 0,
      "outputs": []
    },
    {
      "cell_type": "code",
      "metadata": {
        "id": "GUyP0g9ywD1N",
        "colab_type": "code",
        "colab": {}
      },
      "source": [
        "!wget http://www.nada.kth.se/cvap/actions/boxing.zip\n",
        "!wget http://www.nada.kth.se/cvap/actions/handclapping.zip\n",
        "!wget http://www.nada.kth.se/cvap/actions/handwaving.zip\n",
        "!wget http://www.nada.kth.se/cvap/actions/jogging.zip\n",
        "!wget http://www.nada.kth.se/cvap/actions/running.zip\n",
        "!wget http://www.nada.kth.se/cvap/actions/walking.zip\n",
        "!wget http://www.nada.kth.se/cvap/actions/00sequences.txt -P dataset\n",
        "\n",
        "!unzip boxing.zip -d dataset/boxing\n",
        "!unzip handclapping.zip -d dataset/handclapping\n",
        "!unzip handwaving.zip -d dataset/handwaving\n",
        "!unzip jogging.zip -d dataset/jogging\n",
        "!unzip running.zip -d dataset/running\n",
        "!unzip walking.zip -d dataset/walking\n",
        "\n",
        "!rm *.zip"
      ],
      "execution_count": 0,
      "outputs": []
    },
    {
      "cell_type": "code",
      "metadata": {
        "id": "j3GBcep5vZSp",
        "colab_type": "code",
        "outputId": "83cedbfe-a124-476f-93cd-5c842d98dc88",
        "colab": {
          "base_uri": "https://localhost:8080/",
          "height": 232
        }
      },
      "source": [
        "!pip install scipy==1.1.0"
      ],
      "execution_count": 6,
      "outputs": [
        {
          "output_type": "stream",
          "text": [
            "Collecting scipy==1.1.0\n",
            "\u001b[?25l  Downloading https://files.pythonhosted.org/packages/a8/0b/f163da98d3a01b3e0ef1cab8dd2123c34aee2bafbb1c5bffa354cc8a1730/scipy-1.1.0-cp36-cp36m-manylinux1_x86_64.whl (31.2MB)\n",
            "\u001b[K     |████████████████████████████████| 31.2MB 102kB/s \n",
            "\u001b[?25hRequirement already satisfied: numpy>=1.8.2 in /usr/local/lib/python3.6/dist-packages (from scipy==1.1.0) (1.17.5)\n",
            "\u001b[31mERROR: plotnine 0.6.0 has requirement scipy>=1.2.0, but you'll have scipy 1.1.0 which is incompatible.\u001b[0m\n",
            "\u001b[31mERROR: albumentations 0.1.12 has requirement imgaug<0.2.7,>=0.2.5, but you'll have imgaug 0.2.9 which is incompatible.\u001b[0m\n",
            "Installing collected packages: scipy\n",
            "  Found existing installation: scipy 1.4.1\n",
            "    Uninstalling scipy-1.4.1:\n",
            "      Successfully uninstalled scipy-1.4.1\n",
            "Successfully installed scipy-1.1.0\n"
          ],
          "name": "stdout"
        }
      ]
    },
    {
      "cell_type": "code",
      "metadata": {
        "id": "1gFlJkQsDDv2",
        "colab_type": "code",
        "colab": {}
      },
      "source": [
        "import imageio\n",
        "import cv2\n",
        "import numpy as np\n",
        "import os\n",
        "import pickle\n",
        "import re\n",
        "import PIL\n",
        "from PIL import Image\n",
        "from scipy.misc.pilutil import imresize"
      ],
      "execution_count": 0,
      "outputs": []
    },
    {
      "cell_type": "markdown",
      "metadata": {
        "id": "jfZ65qy1nNKs",
        "colab_type": "text"
      },
      "source": [
        "## Global Variables"
      ]
    },
    {
      "cell_type": "code",
      "metadata": {
        "id": "84evb19tDEsu",
        "colab_type": "code",
        "colab": {}
      },
      "source": [
        "CATEGORIES = [\n",
        "    \"boxing\",\n",
        "    \"handclapping\",\n",
        "    \"handwaving\",\n",
        "    \"jogging\",\n",
        "    \"running\",\n",
        "    \"walking\"\n",
        "]\n",
        "IMG_W_ORIGINAL = 120\n",
        "IMG_H_ORIGINAL = 160\n",
        "IMG_W = 60\n",
        "IMG_H = 80\n",
        "CHANNELS = 1\n",
        "SEQ_LEN = 30\n",
        "SPACIALNET_INPUT_SHAPE = (SEQ_LEN, IMG_W, IMG_H, CHANNELS)\n",
        "TEMPORALNET_INPUT_SHAPE = (SEQ_LEN-1, IMG_W//2, IMG_H//2, CHANNELS)\n",
        "TEMPORALNET_INPUT_SHAPE_2x = (2 * (SEQ_LEN-1), IMG_W//2, IMG_H//2, CHANNELS)\n",
        "NCLASSES = 6\n",
        "EPOCHS = 50\n",
        "BATCH_SIZE = 64"
      ],
      "execution_count": 0,
      "outputs": []
    },
    {
      "cell_type": "markdown",
      "metadata": {
        "id": "JQq8L90xnKL-",
        "colab_type": "text"
      },
      "source": [
        "### Spliting Dataset"
      ]
    },
    {
      "cell_type": "code",
      "metadata": {
        "id": "bqCF-3aODFx4",
        "colab_type": "code",
        "colab": {}
      },
      "source": [
        "# Dataset are divided according to the instruction at:\n",
        "# http://www.nada.kth.se/cvap/actions/00sequences.txt\n",
        "TRAIN_PEOPLE_ID = [11, 12, 13, 14, 15, 16, 17, 18]\n",
        "DEV_PEOPLE_ID = [19, 20, 21, 23, 24, 25, 1, 4]\n",
        "TEST_PEOPLE_ID = [22, 2, 3, 5, 6, 7, 8, 9, 10]"
      ],
      "execution_count": 0,
      "outputs": []
    },
    {
      "cell_type": "markdown",
      "metadata": {
        "id": "4dFWk7zlmoFr",
        "colab_type": "text"
      },
      "source": [
        "## Loading Dataset"
      ]
    },
    {
      "cell_type": "code",
      "metadata": {
        "id": "Wh9jKgXymPs4",
        "colab_type": "code",
        "outputId": "910c2ad3-006f-46a8-e9f3-d387075a962a",
        "colab": {
          "base_uri": "https://localhost:8080/",
          "height": 34
        }
      },
      "source": [
        "print(\"Loading dataset ..\")\n",
        "train_videos = pickle.load(open(\"/content/drive/My Drive/DATASETS/KTH/Dataset pickles/train.p\", \"rb\"))\n",
        "dev_videos = pickle.load(open(\"/content/drive/My Drive/DATASETS/KTH/Dataset pickles/dev.p\", \"rb\"))\n",
        "test_videos = pickle.load(open(\"/content/drive/My Drive/DATASETS/KTH/Dataset pickles/test.p\", \"rb\"))"
      ],
      "execution_count": 10,
      "outputs": [
        {
          "output_type": "stream",
          "text": [
            "Loading dataset ..\n"
          ],
          "name": "stdout"
        }
      ]
    },
    {
      "cell_type": "markdown",
      "metadata": {
        "id": "uW3ClxPsUN8S",
        "colab_type": "text"
      },
      "source": [
        "##Preparing dataset"
      ]
    },
    {
      "cell_type": "markdown",
      "metadata": {
        "id": "iKNGjOKvvo7q",
        "colab_type": "text"
      },
      "source": [
        "### Extracting Optical Flow"
      ]
    },
    {
      "cell_type": "code",
      "metadata": {
        "id": "Uek7_LJwwSpi",
        "colab_type": "code",
        "colab": {}
      },
      "source": [
        "def clean_sequence_file():\n",
        "    print(\"Cleaning dataset/00sequences.txt ...\")\n",
        "\n",
        "    with open('dataset/00sequences.txt', 'r') as content_file:\n",
        "      for _ in range(20):\n",
        "        next(content_file)\n",
        "      content = content_file.read()\n",
        "\n",
        "    content = re.sub(\"[\\t\\n]\", \" \", content).split()\n",
        "\n",
        "    frames_idx = {}\n",
        "\n",
        "    current_filename = \"\"\n",
        "\n",
        "    for s in content:\n",
        "        if s == \"frames\":\n",
        "            continue\n",
        "        elif s.find(\"-\") >= 0:\n",
        "            if s[len(s) - 1] == ',':\n",
        "                s = s[:-1]\n",
        "\n",
        "            idx = s.split(\"-\")\n",
        "\n",
        "            if not current_filename in frames_idx:\n",
        "                frames_idx[current_filename] = []\n",
        "            frames_idx[current_filename].append((int(idx[0]), int(idx[1])))\n",
        "        else:\n",
        "            current_filename = s + \"_uncomp.avi\"\n",
        "\n",
        "    return frames_idx"
      ],
      "execution_count": 0,
      "outputs": []
    },
    {
      "cell_type": "code",
      "metadata": {
        "id": "Ysv_u_TwwN3S",
        "colab_type": "code",
        "colab": {}
      },
      "source": [
        "def extract_optflow(dataset=\"train\"):\n",
        "    if dataset == \"train\":\n",
        "        ID = TRAIN_PEOPLE_ID\n",
        "    elif dataset == \"dev\":\n",
        "        ID = DEV_PEOPLE_ID\n",
        "    else:\n",
        "        ID = TEST_PEOPLE_ID\n",
        "\n",
        "    # Setup parameters for optical flow.\n",
        "    farneback_params = dict(\n",
        "        winsize=10, iterations=1,\n",
        "        flags=cv2.OPTFLOW_FARNEBACK_GAUSSIAN, levels=2,\n",
        "        pyr_scale=0.5, poly_n=5, poly_sigma=1, flow=None)\n",
        "\n",
        "    frames_idx = clean_sequence_file()\n",
        "\n",
        "    data = []\n",
        "\n",
        "    for category in CATEGORIES:\n",
        "        folder_path = os.path.join(\"\", \"dataset\", category)\n",
        "        filenames = sorted(os.listdir(folder_path))\n",
        "\n",
        "        for filename in filenames:\n",
        "            filepath = os.path.join(\"\", \"dataset\", category, filename)\n",
        "\n",
        "            person_id = int(filename.split(\"_\")[0][6:])\n",
        "            if person_id not in ID:\n",
        "                continue\n",
        "\n",
        "            vid = imageio.get_reader(filepath, \"ffmpeg\")\n",
        "\n",
        "            flow_x = []\n",
        "            flow_y = []\n",
        "\n",
        "            prev_frame = None\n",
        "            for i, frame in enumerate(vid):\n",
        "                ok = False\n",
        "                for seg in frames_idx[filename]:\n",
        "                    if i >= seg[0] and i <= seg[1]:\n",
        "                        ok = True\n",
        "                        break\n",
        "                if not ok:\n",
        "                    continue\n",
        "\n",
        "                # Convert to grayscale.\n",
        "                frame = Image.fromarray(np.array(frame))\n",
        "                frame = frame.convert(\"L\")\n",
        "                frame = np.array(frame.getdata(),\n",
        "                                 dtype=np.uint8).reshape((IMG_W_ORIGINAL, IMG_H_ORIGINAL))\n",
        "                frame = imresize(frame, (IMG_W, IMG_H))\n",
        "\n",
        "                if prev_frame is not None:\n",
        "                    # Calculate optical flow.\n",
        "                    flows = cv2.calcOpticalFlowFarneback(prev_frame, frame,\n",
        "                                                         **farneback_params)\n",
        "                                        \n",
        "                    # Subsampling optical flow by half (due to memory usage problems).\n",
        "                    subsampled_x = np.zeros((IMG_W//2, IMG_H//2), dtype=np.float32)\n",
        "                    subsampled_y = np.zeros((IMG_W//2, IMG_H//2), dtype=np.float32)\n",
        "                    for r in range(IMG_W//2):\n",
        "                        for c in range(IMG_H//2):\n",
        "                            subsampled_x[r, c] = flows[r*2, c*2, 0]\n",
        "                            subsampled_y[r, c] = flows[r*2, c*2, 1]\n",
        "\n",
        "                    flow_x.append(subsampled_x)\n",
        "                    flow_y.append(subsampled_y)\n",
        "\n",
        "                prev_frame = frame\n",
        "\n",
        "            data.append({\n",
        "                \"filename\": filename,\n",
        "                \"category\": category,\n",
        "                \"flow_x\": flow_x,\n",
        "                \"flow_y\": flow_y    \n",
        "            })\n",
        "\n",
        "    pickle.dump(data, open(\"data/%s_flow.p\" % dataset, \"wb\"))"
      ],
      "execution_count": 0,
      "outputs": []
    },
    {
      "cell_type": "code",
      "metadata": {
        "id": "yGd2J5FZwXSO",
        "colab_type": "code",
        "outputId": "c6202c96-07a5-44fa-e25a-794ec8fb126c",
        "colab": {
          "base_uri": "https://localhost:8080/",
          "height": 196
        }
      },
      "source": [
        "print(\"Extracting train optflow ...\")\n",
        "extract_optflow(dataset=\"train\")\n",
        "print(\"Extracting dev optflow ...\")\n",
        "extract_optflow(dataset=\"dev\")\n",
        "print(\"Extracting test optflow ...\")\n",
        "extract_optflow(dataset=\"test\")"
      ],
      "execution_count": 13,
      "outputs": [
        {
          "output_type": "stream",
          "text": [
            "Extracting train optflow ...\n",
            "Cleaning dataset/00sequences.txt ...\n"
          ],
          "name": "stdout"
        },
        {
          "output_type": "stream",
          "text": [
            "/usr/local/lib/python3.6/dist-packages/ipykernel_launcher.py:50: DeprecationWarning: `imresize` is deprecated!\n",
            "`imresize` is deprecated in SciPy 1.0.0, and will be removed in 1.2.0.\n",
            "Use ``skimage.transform.resize`` instead.\n"
          ],
          "name": "stderr"
        },
        {
          "output_type": "stream",
          "text": [
            "Extracting dev optflow ...\n",
            "Cleaning dataset/00sequences.txt ...\n",
            "Extracting test optflow ...\n",
            "Cleaning dataset/00sequences.txt ...\n"
          ],
          "name": "stdout"
        }
      ]
    },
    {
      "cell_type": "code",
      "metadata": {
        "id": "mtox6HRKfh59",
        "colab_type": "code",
        "colab": {}
      },
      "source": [
        "def read_ds(ds=\"train\", separate_each_video=False):\n",
        "  if(ds == \"dev\"):\n",
        "    videos = dev_videos\n",
        "    video_flows = pickle.load(open(\"data/dev_flow.p\", \"rb\"))\n",
        "  elif (ds == \"test\"):\n",
        "    videos = test_videos\n",
        "    video_flows = pickle.load(open(\"data/test_flow.p\", \"rb\"))\n",
        "  else:\n",
        "    videos = train_videos\n",
        "    video_flows = pickle.load(open(\"data/train_flow.p\", \"rb\"))\n",
        "      \n",
        "  mean_frames = 0\n",
        "  mean_flow_x = 0\n",
        "  mean_flow_y = 0\n",
        "    \n",
        "  X = []\n",
        "  y = []\n",
        "  i=0\n",
        "  X_per_video = []\n",
        "  y_per_video = []\n",
        "  print(\"total videos : %s\" % len(videos))\n",
        "\n",
        "  for video_index in range(len(videos)):\n",
        "    seq_frame = []\n",
        "    seq_flow_x = []\n",
        "    seq_flow_y = []\n",
        "\n",
        "    frames = videos[video_index][\"frames\"]\n",
        "    flow_x = [0] + video_flows[video_index][\"flow_x\"]\n",
        "    flow_y = [0] + video_flows[video_index][\"flow_y\"]\n",
        "\n",
        "    for frame_index in range(len(frames)):\n",
        "      seq_frame.append(frames[frame_index])\n",
        "\n",
        "      if frame_index % SEQ_LEN > 0:\n",
        "        seq_flow_x.append(flow_x[frame_index])\n",
        "        seq_flow_y.append(flow_y[frame_index])\n",
        "\n",
        "      if (frame_index + 1) % SEQ_LEN == 0:\n",
        "        #print(seq_flow_x)\n",
        "        seq_frame = np.array(seq_frame, dtype=np.float32).reshape(SPACIALNET_INPUT_SHAPE)\n",
        "        seq_flow_x = np.array(seq_flow_x, dtype=np.float32).reshape(TEMPORALNET_INPUT_SHAPE)\n",
        "        seq_flow_y = np.array(seq_flow_y, dtype=np.float32).reshape(TEMPORALNET_INPUT_SHAPE)\n",
        "\n",
        "        mean_frames += np.mean(seq_frame)\n",
        "        mean_flow_x += np.mean(seq_flow_x)\n",
        "        mean_flow_y += np.mean(seq_flow_y)\n",
        "\n",
        "        X.append({\n",
        "            \"frames\": seq_frame,\n",
        "            \"flow_x\": seq_flow_x,\n",
        "            \"flow_y\": seq_flow_y\n",
        "        })\n",
        "\n",
        "        y.append(\n",
        "            CATEGORIES.index(videos[video_index][\"category\"]))\n",
        "\n",
        "        seq_frame = []\n",
        "        seq_flow_x = []\n",
        "        seq_flow_y = []\n",
        "\n",
        "\n",
        "    if(separate_each_video):\n",
        "      X_per_video.append(np.array(X))\n",
        "      y_per_video.append(np.array(y, dtype=np.uint8))\n",
        "      X = []\n",
        "      y = []  \n",
        "    \n",
        "  mean_frames /= len(X)\n",
        "  mean_flow_x /= len(X)\n",
        "  mean_flow_y /= len(X)\n",
        "\n",
        "  mean = {\n",
        "      \"frames\": mean_frames,\n",
        "      \"flow_x\": mean_flow_x,\n",
        "      \"flow_y\": mean_flow_y\n",
        "  }\n",
        "\n",
        "  if(separate_each_video):\n",
        "     return np.array(X_per_video), np.array(y_per_video), mean\n",
        "\n",
        "  y = np.array(y, dtype=np.uint8)\n",
        "  return X, y, mean"
      ],
      "execution_count": 0,
      "outputs": []
    },
    {
      "cell_type": "code",
      "metadata": {
        "id": "UK4U5OIrnB7c",
        "colab_type": "code",
        "outputId": "ef1482cc-e97f-4fcb-87d1-acf544a95eaf",
        "colab": {
          "base_uri": "https://localhost:8080/",
          "height": 70
        }
      },
      "source": [
        "X_train_data, y_train, X_train_data_mean = read_ds(ds=\"train\")\n",
        "X_dev_data, y_dev, X_dev_data_mean = read_ds(ds=\"dev\")\n",
        "X_test_data, y_test, X_test_data_mean= read_ds(ds=\"test\")"
      ],
      "execution_count": 15,
      "outputs": [
        {
          "output_type": "stream",
          "text": [
            "total videos : 191\n",
            "total videos : 192\n",
            "total videos : 216\n"
          ],
          "name": "stdout"
        }
      ]
    },
    {
      "cell_type": "code",
      "metadata": {
        "id": "tL1F7J147RfX",
        "colab_type": "code",
        "outputId": "3aaf5954-f84b-4ad8-991a-a933280b7ff0",
        "colab": {
          "base_uri": "https://localhost:8080/",
          "height": 107
        }
      },
      "source": [
        "X_test_average_prediction_data, y_test_per_video, X_test_average_prediction_data_mean= read_ds(ds=\"test\", separate_each_video=True)"
      ],
      "execution_count": 16,
      "outputs": [
        {
          "output_type": "stream",
          "text": [
            "total videos : 216\n"
          ],
          "name": "stdout"
        },
        {
          "output_type": "stream",
          "text": [
            "/usr/local/lib/python3.6/dist-packages/ipykernel_launcher.py:69: RuntimeWarning: divide by zero encountered in double_scalars\n",
            "/usr/local/lib/python3.6/dist-packages/ipykernel_launcher.py:70: RuntimeWarning: divide by zero encountered in double_scalars\n",
            "/usr/local/lib/python3.6/dist-packages/ipykernel_launcher.py:71: RuntimeWarning: divide by zero encountered in double_scalars\n"
          ],
          "name": "stderr"
        }
      ]
    },
    {
      "cell_type": "code",
      "metadata": {
        "id": "hys3Ia-pKfc4",
        "colab_type": "code",
        "outputId": "ba6b89d2-ccea-4a62-8a40-1f5dbb8ec1ad",
        "colab": {
          "base_uri": "https://localhost:8080/",
          "height": 34
        }
      },
      "source": [
        "X_test_average_prediction_data.shape, len(X_test_data)"
      ],
      "execution_count": 17,
      "outputs": [
        {
          "output_type": "execute_result",
          "data": {
            "text/plain": [
              "((216,), 2537)"
            ]
          },
          "metadata": {
            "tags": []
          },
          "execution_count": 17
        }
      ]
    },
    {
      "cell_type": "code",
      "metadata": {
        "id": "EaWXh_-RlRHI",
        "colab_type": "code",
        "colab": {}
      },
      "source": [
        "def normalize_data(ds=\"train\"):\n",
        "  if(ds == \"dev\"):\n",
        "    target_data = X_dev_data\n",
        "    target_mean = X_dev_data_mean\n",
        "  elif (ds == \"test\"):\n",
        "    target_data = X_test_data\n",
        "    target_mean = X_test_data_mean\n",
        "  else:\n",
        "    target_data = X_train_data\n",
        "    target_mean = X_train_data_mean\n",
        "  \n",
        "  for i in range(len(target_data)):\n",
        "    target_data[i][\"frames\"] -= float(target_mean[\"frames\"])\n",
        "    target_data[i][\"flow_x\"] -= float(target_mean[\"flow_x\"])\n",
        "    target_data[i][\"flow_y\"] -= float(target_mean[\"flow_y\"])\n",
        "  return target_data"
      ],
      "execution_count": 0,
      "outputs": []
    },
    {
      "cell_type": "code",
      "metadata": {
        "id": "hpWPjWV5nRvW",
        "colab_type": "code",
        "colab": {}
      },
      "source": [
        "X_train, train_flow_x, train_flow_y = np.array([ _['frames'] for _ in X_train_data]), np.array([ _['flow_x'] for _ in X_train_data]), np.array([ _['flow_y'] for _ in X_train_data])\n",
        "X_dev, dev_flow_x, dev_flow_y = np.array([ _['frames'] for _ in X_dev_data]), np.array([ _['flow_x'] for _ in X_dev_data]), np.array([ _['flow_y'] for _ in X_dev_data])\n",
        "X_test, test_flow_x, test_flow_y = np.array([ _['frames'] for _ in X_test_data]), np.array([ _['flow_x'] for _ in X_test_data]), np.array([ _['flow_y'] for _ in X_test_data])"
      ],
      "execution_count": 0,
      "outputs": []
    },
    {
      "cell_type": "code",
      "metadata": {
        "id": "I1H8EeCasj0v",
        "colab_type": "code",
        "outputId": "d68565d0-8408-458f-eb0f-36bf881c14a0",
        "colab": {
          "base_uri": "https://localhost:8080/",
          "height": 34
        }
      },
      "source": [
        "X_train.shape, y_train.shape"
      ],
      "execution_count": 20,
      "outputs": [
        {
          "output_type": "execute_result",
          "data": {
            "text/plain": [
              "((2397, 30, 60, 80, 1), (2397,))"
            ]
          },
          "metadata": {
            "tags": []
          },
          "execution_count": 20
        }
      ]
    },
    {
      "cell_type": "code",
      "metadata": {
        "id": "iYOnQnlZvjdK",
        "colab_type": "code",
        "outputId": "f0e68cda-5974-4433-f360-197a40e124b6",
        "colab": {
          "base_uri": "https://localhost:8080/",
          "height": 34
        }
      },
      "source": [
        "train_flow_x.shape, y_train.shape"
      ],
      "execution_count": 21,
      "outputs": [
        {
          "output_type": "execute_result",
          "data": {
            "text/plain": [
              "((2397, 29, 30, 40, 1), (2397,))"
            ]
          },
          "metadata": {
            "tags": []
          },
          "execution_count": 21
        }
      ]
    },
    {
      "cell_type": "code",
      "metadata": {
        "id": "9Z7tapOp2tSJ",
        "colab_type": "code",
        "outputId": "6ca8e0c7-58d7-4065-c06d-de174b74c6e5",
        "colab": {
          "base_uri": "https://localhost:8080/",
          "height": 34
        }
      },
      "source": [
        "train_flow_y.shape, y_train.shape"
      ],
      "execution_count": 22,
      "outputs": [
        {
          "output_type": "execute_result",
          "data": {
            "text/plain": [
              "((2397, 29, 30, 40, 1), (2397,))"
            ]
          },
          "metadata": {
            "tags": []
          },
          "execution_count": 22
        }
      ]
    },
    {
      "cell_type": "code",
      "metadata": {
        "id": "Bkemm9N4691l",
        "colab_type": "code",
        "outputId": "f610537d-8ab3-41fe-f6c7-032d8eafa3e2",
        "colab": {
          "base_uri": "https://localhost:8080/",
          "height": 34
        }
      },
      "source": [
        "np.unique(y_train)"
      ],
      "execution_count": 23,
      "outputs": [
        {
          "output_type": "execute_result",
          "data": {
            "text/plain": [
              "array([0, 1, 2, 3, 4, 5], dtype=uint8)"
            ]
          },
          "metadata": {
            "tags": []
          },
          "execution_count": 23
        }
      ]
    },
    {
      "cell_type": "code",
      "metadata": {
        "id": "5mx8KaB5TfuA",
        "colab_type": "code",
        "colab": {}
      },
      "source": [
        "def generate_sequences(ds=\"train\", separate_each_video=False):\n",
        "  if(ds == \"dev\"):\n",
        "    videos = dev_videos\n",
        "  elif (ds == \"test\"):\n",
        "    videos = test_videos\n",
        "  else:\n",
        "    videos = train_videos\n",
        "      \n",
        "  X = []\n",
        "  y = []\n",
        "  X_per_video = []\n",
        "  y_per_video = []\n",
        "  \n",
        "  for video in videos:\n",
        "\n",
        "    frames = video[\"frames\"]\n",
        "    sequences = len(frames) // SEQ_LEN\n",
        "    seq_frames = []\n",
        "    sequnces_frames = [] \n",
        "    step = SEQ_LEN\n",
        "    for i in range(0, len(frames)):\n",
        "      if(i < step):\n",
        "        seq_frames.append(frames[i])\n",
        "      else:\n",
        "        sequnces_frames.append(seq_frames)\n",
        "        seq_frames = []\n",
        "        step = step + SEQ_LEN + 1\n",
        "    sequnces_frames = np.array(sequnces_frames[:sequences])\n",
        "    for seq in sequnces_frames:\n",
        "      X.append(seq.reshape(SPACIALNET_INPUT_SHAPE))\n",
        "      y.append(CATEGORIES.index(video[\"category\"]))\n",
        "\n",
        "    if(separate_each_video):\n",
        "      if(len(X_per_video) == 0) :\n",
        "        X_per_video.append(np.array(X))      \n",
        "        y_per_video.append(np.array(y))      \n",
        "      else: \n",
        "        X_per_video.append(np.array(X))\n",
        "        y_per_video.append(np.array(y))\n",
        "        #y_per_video = cat((y_per_video, np.array(y)), axis=0)\n",
        "\n",
        "      X = []\n",
        "      y = []  \n",
        "\n",
        "  X = np.array(X, dtype=np.float32)\n",
        "  y = np.array(y, dtype=np.uint8)\n",
        "\n",
        "  if(separate_each_video):\n",
        "    return np.array(X_per_video), np.array(y_per_video)\n",
        "\n",
        "  return X, y"
      ],
      "execution_count": 0,
      "outputs": []
    },
    {
      "cell_type": "code",
      "metadata": {
        "id": "6HBcLe96TBez",
        "colab_type": "code",
        "outputId": "1d08fa9a-0baf-4118-ae6d-856da1b9ce2e",
        "colab": {
          "base_uri": "https://localhost:8080/",
          "height": 34
        }
      },
      "source": [
        "X_test_average_prediction, y_test_average_prediction = generate_sequences( ds=\"test\", separate_each_video=True)\n",
        "X_test_average_prediction.shape, y_test_average_prediction.shape"
      ],
      "execution_count": 25,
      "outputs": [
        {
          "output_type": "execute_result",
          "data": {
            "text/plain": [
              "((216,), (216,))"
            ]
          },
          "metadata": {
            "tags": []
          },
          "execution_count": 25
        }
      ]
    },
    {
      "cell_type": "code",
      "metadata": {
        "id": "G-bZUIKFZJzF",
        "colab_type": "code",
        "colab": {}
      },
      "source": [
        "X_train_flow = np.concatenate((train_flow_x, train_flow_y), axis=0)\n",
        "X_dev_flow = np.concatenate((dev_flow_x, dev_flow_y), axis=0)\n",
        "X_test_flow = np.concatenate((test_flow_x, test_flow_y), axis=0)"
      ],
      "execution_count": 0,
      "outputs": []
    },
    {
      "cell_type": "code",
      "metadata": {
        "id": "w1h8KgN3aD7l",
        "colab_type": "code",
        "outputId": "3d47498b-8de4-436c-c4f6-cdc9c8a11888",
        "colab": {
          "base_uri": "https://localhost:8080/",
          "height": 34
        }
      },
      "source": [
        "train_flow_x.shape, X_train_flow.shape"
      ],
      "execution_count": 27,
      "outputs": [
        {
          "output_type": "execute_result",
          "data": {
            "text/plain": [
              "((2397, 29, 30, 40, 1), (4794, 29, 30, 40, 1))"
            ]
          },
          "metadata": {
            "tags": []
          },
          "execution_count": 27
        }
      ]
    },
    {
      "cell_type": "markdown",
      "metadata": {
        "id": "CQYHtG9WAli6",
        "colab_type": "text"
      },
      "source": [
        "### Visualization Of The Data\n"
      ]
    },
    {
      "cell_type": "code",
      "metadata": {
        "id": "SrZWfeT6nz5Y",
        "colab_type": "code",
        "colab": {}
      },
      "source": [
        "import matplotlib.pyplot as plt\n",
        "\n",
        "def show_images(images, cols = 1, titles = None):\n",
        "    assert((titles is None) or (len(images) == len(titles)))\n",
        "    n_images = len(images)\n",
        "    if titles is None: titles = ['Image (%d)' % i for i in range(1,n_images + 1)]\n",
        "    fig = plt.figure(figsize=(16,12))\n",
        "    for n, (image, title) in enumerate(zip(images, titles)):\n",
        "        a = fig.add_subplot(cols, np.ceil(n_images/float(cols)), n + 1)\n",
        "        if image.ndim == 2:\n",
        "            plt.gray()\n",
        "        plt.imshow(image)\n",
        "        a.set_title(title)\n",
        "    #fig.set_size_inches(np.array(fig.get_size_inches()) * n_images)\n",
        "    plt.show()\n"
      ],
      "execution_count": 0,
      "outputs": []
    },
    {
      "cell_type": "code",
      "metadata": {
        "id": "0_AP0779hwPp",
        "colab_type": "code",
        "outputId": "864fccbb-0be4-4cab-d602-c3502c373cf1",
        "colab": {
          "base_uri": "https://localhost:8080/",
          "height": 911
        }
      },
      "source": [
        "imgs_samples_size = 1\n",
        "imgs_samples = np.random.randint(X_train.shape[0] - 1, size=imgs_samples_size)\n",
        "imgs_per_samples = 3\n",
        "\n",
        "imgs_gray_class = []\n",
        "imgs_gray = []\n",
        "imgs_flow_x = []\n",
        "imgs_flow_y = []\n",
        "for i in range(len(imgs_samples)):\n",
        "  imgs_gray.append(X_train[imgs_samples[i]][0:SEQ_LEN:SEQ_LEN//imgs_per_samples])\n",
        "  imgs_flow_x.append(train_flow_x[imgs_samples[i]][0:SEQ_LEN-1:SEQ_LEN//imgs_per_samples])\n",
        "  imgs_flow_y.append(train_flow_y[imgs_samples[i]][0:SEQ_LEN-1:SEQ_LEN//imgs_per_samples])\n",
        "\n",
        "#show_images(imgs_gray, cols = 1, titles = \"Grayscale Images\")\n",
        "\n",
        "print(imgs_samples)\n",
        "img_sample = imgs_samples[0]\n",
        "\n",
        "\n",
        "print(np.array(imgs_flow_y).shape)\n",
        "#plt.show(imgs_gray[img_sample].reshape(IMG_W, IMG_H))\n",
        "\n",
        "\n",
        "reshaped_imgs_gray = []\n",
        "reshaped_imgs_flow_x = []\n",
        "reshaped_imgs_flow_y = []\n",
        "for i in range(len(imgs_samples)):\n",
        "  for j in range(len(imgs_gray[i])):\n",
        "    imgs_gray_class.append(CATEGORIES[y_train[imgs_samples[i]]])\n",
        "    reshaped_imgs_gray.append(imgs_gray[i][j].reshape(IMG_W, IMG_H))\n",
        "    reshaped_imgs_flow_x.append(imgs_flow_x[i][j].reshape(IMG_W//2, IMG_H//2))\n",
        "    reshaped_imgs_flow_y.append(imgs_flow_y[i][j].reshape(IMG_W//2, IMG_H//2))\n",
        "\n",
        "print(\"-\"*100)  \n",
        "print(\"Grayscale Images : \")  \n",
        "show_images(reshaped_imgs_gray, cols = imgs_samples_size, titles = imgs_gray_class)\n",
        "print(\"-\"*100)  \n",
        "print(\"Farneback Flow x Images : \")  \n",
        "show_images(reshaped_imgs_flow_x, cols = imgs_samples_size, titles = imgs_gray_class)\n",
        "print(\"-\"*100)  \n",
        "print(\"Farneback Flow y Images : \")  \n",
        "show_images(reshaped_imgs_flow_y, cols = imgs_samples_size, titles = imgs_gray_class)"
      ],
      "execution_count": 29,
      "outputs": [
        {
          "output_type": "stream",
          "text": [
            "[412]\n",
            "(1, 3, 30, 40, 1)\n",
            "----------------------------------------------------------------------------------------------------\n",
            "Grayscale Images : \n"
          ],
          "name": "stdout"
        },
        {
          "output_type": "display_data",
          "data": {
            "image/png": "[encoded data removed]",
            "text/plain": [
              "<Figure size 1152x864 with 3 Axes>"
            ]
          },
          "metadata": {
            "tags": []
          }
        },
        {
          "output_type": "stream",
          "text": [
            "----------------------------------------------------------------------------------------------------\n",
            "Farneback Flow x Images : \n"
          ],
          "name": "stdout"
        },
        {
          "output_type": "display_data",
          "data": {
            "image/png": "[encoded data removed]",
            "text/plain": [
              "<Figure size 1152x864 with 3 Axes>"
            ]
          },
          "metadata": {
            "tags": []
          }
        },
        {
          "output_type": "stream",
          "text": [
            "----------------------------------------------------------------------------------------------------\n",
            "Farneback Flow y Images : \n"
          ],
          "name": "stdout"
        },
        {
          "output_type": "display_data",
          "data": {
            "image/png": "[encoded data removed]",
            "text/plain": [
              "<Figure size 1152x864 with 3 Axes>"
            ]
          },
          "metadata": {
            "tags": []
          }
        }
      ]
    },
    {
      "cell_type": "markdown",
      "metadata": {
        "id": "tzmBMPmsbNOp",
        "colab_type": "text"
      },
      "source": [
        "## Preparing The Model"
      ]
    },
    {
      "cell_type": "code",
      "metadata": {
        "id": "7pcECA5ZYkyL",
        "colab_type": "code",
        "colab": {}
      },
      "source": [
        "import keras\n",
        "from keras.models import Sequential, Model\n",
        "from keras.layers import Dense, Dropout, BatchNormalization, Flatten\n",
        "from keras.layers import average, concatenate, Input, ZeroPadding2D, Conv2D, MaxPooling2D, Activation, add, GlobalAveragePooling1D\n",
        "from keras.layers import ZeroPadding3D, Conv3D, MaxPooling3D\n",
        "from keras.layers.recurrent import LSTM\n",
        "from keras.layers.wrappers import TimeDistributed\n",
        "from keras.utils import to_categorical\n",
        "from keras.preprocessing import image\n",
        "import numpy as np\n",
        "import pandas as pd\n",
        "import matplotlib.pyplot as plt\n",
        "import tensorflow as tf\n",
        "from tensorflow.keras.utils import plot_model"
      ],
      "execution_count": 0,
      "outputs": []
    },
    {
      "cell_type": "code",
      "metadata": {
        "id": "vb3YvBmf_N4D",
        "colab_type": "code",
        "colab": {}
      },
      "source": [
        "from keras.utils import to_categorical\n",
        "y_train = to_categorical(y_train)\n",
        "y_dev = to_categorical(y_dev)\n",
        "y_test = to_categorical(y_test)"
      ],
      "execution_count": 0,
      "outputs": []
    },
    {
      "cell_type": "markdown",
      "metadata": {
        "id": "O5FZWIlybyJ6",
        "colab_type": "text"
      },
      "source": [
        "### Baseline Model"
      ]
    },
    {
      "cell_type": "code",
      "metadata": {
        "id": "TY08fCpk_6se",
        "colab_type": "code",
        "outputId": "618f114a-9696-4969-bf0c-b8b6a9e4bd56",
        "colab": {
          "base_uri": "https://localhost:8080/",
          "height": 54
        }
      },
      "source": [
        "'''# CNN model (VGG like)\n",
        "model = Sequential()\n",
        "\n",
        "## Stage 2\n",
        "model.add(Conv2D(32,(3,3),activation='relu',input_shape=(IMG_W, IMG_H, CHANNELS)))\n",
        "model.add(BatchNormalization())\n",
        "model.add(Conv2D(32,(3,3),activation='relu',padding='valid'))\n",
        "model.add(BatchNormalization())\n",
        "model.add(MaxPooling2D(pool_size=(2,2),padding='valid'))\n",
        "\n",
        "## Stage 3\n",
        "model.add(Conv2D(64,(3,3),activation='relu',padding='valid'))\n",
        "model.add(BatchNormalization())\n",
        "model.add(Conv2D(64,(3,3),activation='relu',padding='valid'))\n",
        "model.add(BatchNormalization())\n",
        "model.add(MaxPooling2D(pool_size=(2,2),padding='valid'))\n",
        "\n",
        "## Stage 4\n",
        "model.add(Conv2D(128,(3,3),activation='relu',padding='valid'))\n",
        "model.add(BatchNormalization())\n",
        "model.add(Conv2D(128,(3,3),activation='relu',padding='valid'))\n",
        "model.add(BatchNormalization())\n",
        "model.add(MaxPooling2D(pool_size=(2,2),padding='valid'))\n",
        "\n",
        "## Output\n",
        "model.add(Flatten())\n",
        "model.add(Dropout(0.5))\n",
        "model.add(Dense(256,activation='relu'))\n",
        "model.add(BatchNormalization())\n",
        "model.add(Dropout(0.5))\n",
        "model.add(Dense(512,activation='relu'))\n",
        "model.add(Dropout(0.5))\n",
        "model.add(Dense(NCLASSES,activation='softmax'))'''"
      ],
      "execution_count": 33,
      "outputs": [
        {
          "output_type": "execute_result",
          "data": {
            "text/plain": [
              "\"# CNN model (VGG like)\\nmodel = Sequential()\\n\\n## Stage 2\\nmodel.add(Conv2D(32,(3,3),activation='relu',input_shape=(IMG_W, IMG_H, CHANNELS)))\\nmodel.add(BatchNormalization())\\nmodel.add(Conv2D(32,(3,3),activation='relu',padding='valid'))\\nmodel.add(BatchNormalization())\\nmodel.add(MaxPooling2D(pool_size=(2,2),padding='valid'))\\n\\n## Stage 3\\nmodel.add(Conv2D(64,(3,3),activation='relu',padding='valid'))\\nmodel.add(BatchNormalization())\\nmodel.add(Conv2D(64,(3,3),activation='relu',padding='valid'))\\nmodel.add(BatchNormalization())\\nmodel.add(MaxPooling2D(pool_size=(2,2),padding='valid'))\\n\\n## Stage 4\\nmodel.add(Conv2D(128,(3,3),activation='relu',padding='valid'))\\nmodel.add(BatchNormalization())\\nmodel.add(Conv2D(128,(3,3),activation='relu',padding='valid'))\\nmodel.add(BatchNormalization())\\nmodel.add(MaxPooling2D(pool_size=(2,2),padding='valid'))\\n\\n## Output\\nmodel.add(Flatten())\\nmodel.add(Dropout(0.5))\\nmodel.add(Dense(256,activation='relu'))\\nmodel.add(BatchNormalization())\\nmodel.add(Dropout(0.5))\\nmodel.add(Dense(512,activation='relu'))\\nmodel.add(Dropout(0.5))\\nmodel.add(Dense(NCLASSES,activation='softmax'))\""
            ]
          },
          "metadata": {
            "tags": []
          },
          "execution_count": 33
        }
      ]
    },
    {
      "cell_type": "code",
      "metadata": {
        "id": "66hD87bz3KVA",
        "colab_type": "code",
        "colab": {}
      },
      "source": [
        "def get_model(name, input_shape, get_feature_vector=True):\n",
        "    # CNN model (VGG Action)\n",
        "    inputs = Input(shape=input_shape)\n",
        "    conv1_1 = Conv2D(32,(3,3),activation='relu', name='conv1_1_{}'.format(name))(inputs)\n",
        "    bn1_1 = BatchNormalization()(conv1_1)\n",
        "    conv1_2 = Conv2D(32,(3,3),activation='relu',padding='same', name='conv1_2_{}'.format(name))(bn1_1)\n",
        "    pool1_1 = MaxPooling2D(pool_size=(2,2),padding='valid', name='pool1_1_{}'.format(name))(conv1_2)\n",
        "\n",
        "    conv2_1 = Conv2D(64,(3,3),activation='relu',padding='same', name='conv2_1_{}'.format(name))(pool1_1)\n",
        "    bn2_1 = BatchNormalization()(conv2_1)\n",
        "    conv2_2 = Conv2D(64,(3,3),activation='relu',padding='same', name='conv2_2_{}'.format(name))(bn2_1)\n",
        "    pool2_1 = MaxPooling2D(pool_size=(2,2),padding='valid', name='pool2_1_{}'.format(name))(conv2_2)\n",
        "\n",
        "    conv3_1 = Conv2D(128,(3,3),activation='relu',padding='same', name='conv3_1_{}'.format(name))(pool2_1)\n",
        "    bn3_1 = BatchNormalization()(conv3_1)\n",
        "    conv3_2 = Conv2D(128,(3,3),activation='relu',padding='same', name='conv3_2_{}'.format(name))(bn3_1)\n",
        "    pool3_1 = MaxPooling2D(pool_size=(2,2),padding='valid', name='pool3_1_{}'.format(name))(conv3_2)\n",
        "\n",
        "    flatten = Flatten()(pool3_1)\n",
        "    dense4_1 = Dense(256,activation='relu', name='fc4_1_{}'.format(name))(flatten)\n",
        "    dropout4_1 = Dropout(0.5)(dense4_1)\n",
        "    bn4_1 = BatchNormalization()(dropout4_1)\n",
        "    dropout4_2 = Dropout(0.5)(bn4_1)\n",
        "    dense4_2 = Dense(512,activation='relu', name='fc4_2_{}'.format(name))(dropout4_2)\n",
        "\n",
        "    if get_feature_vector:\n",
        "      return dense4_2, inputs\n",
        "    \n",
        "    dropout4_3 = Dropout(0.5)(dense4_2)\n",
        "    dense4_3 = Dense(NCLASSES, name='fc4_3_{}'.format(name))(dropout4_3)\n",
        "    softmax = Activation('softmax')(dense4_3)\n",
        "\n",
        "    return Model(inputs=inputs, outputs=softmax), inputs"
      ],
      "execution_count": 0,
      "outputs": []
    },
    {
      "cell_type": "code",
      "metadata": {
        "id": "qVbHBMFueaDJ",
        "colab_type": "code",
        "colab": {}
      },
      "source": [
        "def get_3dmodel(name, input_shape, get_feature_vector=True):\n",
        "    # 3D CNN model (VGG Action)\n",
        "    inputs = Input(shape=input_shape)\n",
        "    conv1_1 = Conv3D(32,(1,3,3),activation='relu', name='conv1_1_{}'.format(name))(inputs)\n",
        "    bn1_1 = BatchNormalization()(conv1_1)\n",
        "    conv1_2 = Conv3D(32,(1,3,3),activation='relu',padding='same', name='conv1_2_{}'.format(name))(bn1_1)\n",
        "    pool1_1 = MaxPooling3D(pool_size=(2,2,2),padding='valid', name='pool1_1_{}'.format(name))(conv1_2)\n",
        "\n",
        "    conv2_1 = Conv3D(64,(1,3,3),activation='relu',padding='same', name='conv2_1_{}'.format(name))(pool1_1)\n",
        "    bn2_1 = BatchNormalization()(conv2_1)\n",
        "    conv2_2 = Conv3D(64,(1,3,3),activation='relu',padding='same', name='conv2_2_{}'.format(name))(bn2_1)\n",
        "    pool2_1 = MaxPooling3D(pool_size=(2,2,2),padding='valid', name='pool2_1_{}'.format(name))(conv2_2)\n",
        "\n",
        "    conv3_1 = Conv3D(128,(1,3,3),activation='relu',padding='same', name='conv3_1_{}'.format(name))(pool2_1)\n",
        "    bn3_1 = BatchNormalization()(conv3_1)\n",
        "    conv3_2 = Conv3D(128,(1,3,3),activation='relu',padding='same', name='conv3_2_{}'.format(name))(bn3_1)\n",
        "    pool3_1 = MaxPooling3D(pool_size=(2,2,2),padding='valid', name='pool3_1_{}'.format(name))(conv3_2)\n",
        "\n",
        "    flatten = Flatten()(pool3_1)\n",
        "    dense4_1 = Dense(256,activation='relu', name='fc4_1_{}'.format(name))(flatten)\n",
        "    dropout4_1 = Dropout(0.5)(dense4_1)\n",
        "    bn4_1 = BatchNormalization()(dropout4_1)\n",
        "    dropout4_2 = Dropout(0.5)(bn4_1)\n",
        "    dense4_2 = Dense(512,activation='relu', name='fc4_2_{}'.format(name))(dropout4_2)\n",
        "\n",
        "    if get_feature_vector:\n",
        "      return dense4_2, inputs\n",
        "    \n",
        "    dropout4_3 = Dropout(0.5)(dense4_2)\n",
        "    dense4_3 = Dense(NCLASSES, name='fc4_3_{}'.format(name))(dropout4_3)\n",
        "    softmax = Activation('softmax')(dense4_3)\n",
        "\n",
        "    return Model(inputs=inputs, outputs=softmax), inputs"
      ],
      "execution_count": 0,
      "outputs": []
    },
    {
      "cell_type": "markdown",
      "metadata": {
        "id": "UAyuEL_vbdbn",
        "colab_type": "text"
      },
      "source": [
        "### Model Fusions"
      ]
    },
    {
      "cell_type": "code",
      "metadata": {
        "id": "7fnRq6oae83_",
        "colab_type": "code",
        "colab": {}
      },
      "source": [
        "spatial_net, spatial_input = get_3dmodel(name='spatial_net', input_shape=SPACIALNET_INPUT_SHAPE, get_feature_vector=False)\n",
        "temporal_net, temporal_input = get_3dmodel(name='temporal_net', input_shape=TEMPORALNET_INPUT_SHAPE_2x, get_feature_vector=False)\n",
        "\n",
        "inputs = [spatial_net.input, temporal_net.input]\n",
        "outputs = average([spatial_net.output, temporal_net.output])\n",
        "model = Model(inputs, outputs)"
      ],
      "execution_count": 0,
      "outputs": []
    },
    {
      "cell_type": "code",
      "metadata": {
        "id": "T68x1HdSFviV",
        "colab_type": "code",
        "colab": {
          "base_uri": "https://localhost:8080/",
          "height": 34
        },
        "outputId": "54729b1a-95b3-42ad-e879-0e4c0a9ea89b"
      },
      "source": [
        "train_spatial_data = X_train\n",
        "train_temporal_data = np.concatenate((train_flow_x, train_flow_y), axis=1)\n",
        "\n",
        "dev_spatial_data = X_dev\n",
        "dev_temporal_data = np.concatenate((dev_flow_x, dev_flow_y), axis=1)\n",
        "\n",
        "test_spatial_data = X_test\n",
        "test_temporal_data = np.concatenate((test_flow_x, test_flow_y), axis=1)\n",
        "\n",
        "train_spatial_data.shape, train_temporal_data.shape"
      ],
      "execution_count": 57,
      "outputs": [
        {
          "output_type": "execute_result",
          "data": {
            "text/plain": [
              "((2397, 30, 60, 80, 1), (2397, 58, 30, 40, 1))"
            ]
          },
          "metadata": {
            "tags": []
          },
          "execution_count": 57
        }
      ]
    },
    {
      "cell_type": "code",
      "metadata": {
        "id": "E7Mpem1Wj-uW",
        "colab_type": "code",
        "outputId": "94a61821-c3c7-4695-ff48-30b20e261a00",
        "colab": {
          "base_uri": "https://localhost:8080/",
          "height": 1000
        }
      },
      "source": [
        "model.summary()"
      ],
      "execution_count": 58,
      "outputs": [
        {
          "output_type": "stream",
          "text": [
            "Model: \"model_3\"\n",
            "__________________________________________________________________________________________________\n",
            "Layer (type)                    Output Shape         Param #     Connected to                     \n",
            "==================================================================================================\n",
            "input_5 (InputLayer)            (None, 30, 60, 80, 1 0                                            \n",
            "__________________________________________________________________________________________________\n",
            "input_6 (InputLayer)            (None, 58, 30, 40, 1 0                                            \n",
            "__________________________________________________________________________________________________\n",
            "conv1_1_spatial_net (Conv3D)    (None, 30, 58, 78, 3 320         input_5[0][0]                    \n",
            "__________________________________________________________________________________________________\n",
            "conv1_1_temporal_net (Conv3D)   (None, 58, 28, 38, 3 320         input_6[0][0]                    \n",
            "__________________________________________________________________________________________________\n",
            "batch_normalization_17 (BatchNo (None, 30, 58, 78, 3 128         conv1_1_spatial_net[0][0]        \n",
            "__________________________________________________________________________________________________\n",
            "batch_normalization_21 (BatchNo (None, 58, 28, 38, 3 128         conv1_1_temporal_net[0][0]       \n",
            "__________________________________________________________________________________________________\n",
            "conv1_2_spatial_net (Conv3D)    (None, 30, 58, 78, 3 9248        batch_normalization_17[0][0]     \n",
            "__________________________________________________________________________________________________\n",
            "conv1_2_temporal_net (Conv3D)   (None, 58, 28, 38, 3 9248        batch_normalization_21[0][0]     \n",
            "__________________________________________________________________________________________________\n",
            "pool1_1_spatial_net (MaxPooling (None, 15, 29, 39, 3 0           conv1_2_spatial_net[0][0]        \n",
            "__________________________________________________________________________________________________\n",
            "pool1_1_temporal_net (MaxPoolin (None, 29, 14, 19, 3 0           conv1_2_temporal_net[0][0]       \n",
            "__________________________________________________________________________________________________\n",
            "conv2_1_spatial_net (Conv3D)    (None, 15, 29, 39, 6 18496       pool1_1_spatial_net[0][0]        \n",
            "__________________________________________________________________________________________________\n",
            "conv2_1_temporal_net (Conv3D)   (None, 29, 14, 19, 6 18496       pool1_1_temporal_net[0][0]       \n",
            "__________________________________________________________________________________________________\n",
            "batch_normalization_18 (BatchNo (None, 15, 29, 39, 6 256         conv2_1_spatial_net[0][0]        \n",
            "__________________________________________________________________________________________________\n",
            "batch_normalization_22 (BatchNo (None, 29, 14, 19, 6 256         conv2_1_temporal_net[0][0]       \n",
            "__________________________________________________________________________________________________\n",
            "conv2_2_spatial_net (Conv3D)    (None, 15, 29, 39, 6 36928       batch_normalization_18[0][0]     \n",
            "__________________________________________________________________________________________________\n",
            "conv2_2_temporal_net (Conv3D)   (None, 29, 14, 19, 6 36928       batch_normalization_22[0][0]     \n",
            "__________________________________________________________________________________________________\n",
            "pool2_1_spatial_net (MaxPooling (None, 7, 14, 19, 64 0           conv2_2_spatial_net[0][0]        \n",
            "__________________________________________________________________________________________________\n",
            "pool2_1_temporal_net (MaxPoolin (None, 14, 7, 9, 64) 0           conv2_2_temporal_net[0][0]       \n",
            "__________________________________________________________________________________________________\n",
            "conv3_1_spatial_net (Conv3D)    (None, 7, 14, 19, 12 73856       pool2_1_spatial_net[0][0]        \n",
            "__________________________________________________________________________________________________\n",
            "conv3_1_temporal_net (Conv3D)   (None, 14, 7, 9, 128 73856       pool2_1_temporal_net[0][0]       \n",
            "__________________________________________________________________________________________________\n",
            "batch_normalization_19 (BatchNo (None, 7, 14, 19, 12 512         conv3_1_spatial_net[0][0]        \n",
            "__________________________________________________________________________________________________\n",
            "batch_normalization_23 (BatchNo (None, 14, 7, 9, 128 512         conv3_1_temporal_net[0][0]       \n",
            "__________________________________________________________________________________________________\n",
            "conv3_2_spatial_net (Conv3D)    (None, 7, 14, 19, 12 147584      batch_normalization_19[0][0]     \n",
            "__________________________________________________________________________________________________\n",
            "conv3_2_temporal_net (Conv3D)   (None, 14, 7, 9, 128 147584      batch_normalization_23[0][0]     \n",
            "__________________________________________________________________________________________________\n",
            "pool3_1_spatial_net (MaxPooling (None, 3, 7, 9, 128) 0           conv3_2_spatial_net[0][0]        \n",
            "__________________________________________________________________________________________________\n",
            "pool3_1_temporal_net (MaxPoolin (None, 7, 3, 4, 128) 0           conv3_2_temporal_net[0][0]       \n",
            "__________________________________________________________________________________________________\n",
            "flatten_5 (Flatten)             (None, 24192)        0           pool3_1_spatial_net[0][0]        \n",
            "__________________________________________________________________________________________________\n",
            "flatten_6 (Flatten)             (None, 10752)        0           pool3_1_temporal_net[0][0]       \n",
            "__________________________________________________________________________________________________\n",
            "fc4_1_spatial_net (Dense)       (None, 256)          6193408     flatten_5[0][0]                  \n",
            "__________________________________________________________________________________________________\n",
            "fc4_1_temporal_net (Dense)      (None, 256)          2752768     flatten_6[0][0]                  \n",
            "__________________________________________________________________________________________________\n",
            "dropout_9 (Dropout)             (None, 256)          0           fc4_1_spatial_net[0][0]          \n",
            "__________________________________________________________________________________________________\n",
            "dropout_12 (Dropout)            (None, 256)          0           fc4_1_temporal_net[0][0]         \n",
            "__________________________________________________________________________________________________\n",
            "batch_normalization_20 (BatchNo (None, 256)          1024        dropout_9[0][0]                  \n",
            "__________________________________________________________________________________________________\n",
            "batch_normalization_24 (BatchNo (None, 256)          1024        dropout_12[0][0]                 \n",
            "__________________________________________________________________________________________________\n",
            "dropout_10 (Dropout)            (None, 256)          0           batch_normalization_20[0][0]     \n",
            "__________________________________________________________________________________________________\n",
            "dropout_13 (Dropout)            (None, 256)          0           batch_normalization_24[0][0]     \n",
            "__________________________________________________________________________________________________\n",
            "fc4_2_spatial_net (Dense)       (None, 512)          131584      dropout_10[0][0]                 \n",
            "__________________________________________________________________________________________________\n",
            "fc4_2_temporal_net (Dense)      (None, 512)          131584      dropout_13[0][0]                 \n",
            "__________________________________________________________________________________________________\n",
            "dropout_11 (Dropout)            (None, 512)          0           fc4_2_spatial_net[0][0]          \n",
            "__________________________________________________________________________________________________\n",
            "dropout_14 (Dropout)            (None, 512)          0           fc4_2_temporal_net[0][0]         \n",
            "__________________________________________________________________________________________________\n",
            "fc4_3_spatial_net (Dense)       (None, 6)            3078        dropout_11[0][0]                 \n",
            "__________________________________________________________________________________________________\n",
            "fc4_3_temporal_net (Dense)      (None, 6)            3078        dropout_14[0][0]                 \n",
            "__________________________________________________________________________________________________\n",
            "activation_1 (Activation)       (None, 6)            0           fc4_3_spatial_net[0][0]          \n",
            "__________________________________________________________________________________________________\n",
            "activation_2 (Activation)       (None, 6)            0           fc4_3_temporal_net[0][0]         \n",
            "__________________________________________________________________________________________________\n",
            "average_1 (Average)             (None, 6)            0           activation_1[0][0]               \n",
            "                                                                 activation_2[0][0]               \n",
            "==================================================================================================\n",
            "Total params: 9,792,204\n",
            "Trainable params: 9,790,284\n",
            "Non-trainable params: 1,920\n",
            "__________________________________________________________________________________________________\n"
          ],
          "name": "stdout"
        }
      ]
    },
    {
      "cell_type": "code",
      "metadata": {
        "id": "8ZWRUWc0j-rs",
        "colab_type": "code",
        "colab": {}
      },
      "source": [
        "model.compile(optimizer='adam', loss='categorical_crossentropy', metrics=['accuracy'])"
      ],
      "execution_count": 0,
      "outputs": []
    },
    {
      "cell_type": "markdown",
      "metadata": {
        "id": "zB49kLYSxFVE",
        "colab_type": "text"
      },
      "source": [
        "##Training The Model"
      ]
    },
    {
      "cell_type": "code",
      "metadata": {
        "id": "k13cu7tT5jxJ",
        "colab_type": "code",
        "colab": {}
      },
      "source": [
        "callbacks_list = [\n",
        "    keras.callbacks.ModelCheckpoint(\n",
        "        filepath='best_model.{epoch:02d}-{val_loss:.2f}.h5',\n",
        "        monitor='val_loss', save_best_only=True),\n",
        "    keras.callbacks.EarlyStopping(monitor='acc', patience=25)\n",
        "]"
      ],
      "execution_count": 0,
      "outputs": []
    },
    {
      "cell_type": "code",
      "metadata": {
        "id": "v6reMADJDPFS",
        "colab_type": "code",
        "outputId": "b886bee7-f1b4-4a88-d47e-424e188275f3",
        "colab": {
          "base_uri": "https://localhost:8080/",
          "height": 1000
        }
      },
      "source": [
        "trained_model = model.fit([train_spatial_data, train_temporal_data], y_train, epochs = EPOCHS, batch_size = BATCH_SIZE, validation_data=([dev_spatial_data, dev_temporal_data], y_dev), callbacks=callbacks_list)"
      ],
      "execution_count": 61,
      "outputs": [
        {
          "output_type": "stream",
          "text": [
            "WARNING:tensorflow:From /usr/local/lib/python3.6/dist-packages/tensorflow_core/python/ops/math_grad.py:1424: where (from tensorflow.python.ops.array_ops) is deprecated and will be removed in a future version.\n",
            "Instructions for updating:\n",
            "Use tf.where in 2.0, which has the same broadcast rule as np.where\n",
            "WARNING:tensorflow:From /usr/local/lib/python3.6/dist-packages/keras/backend/tensorflow_backend.py:1033: The name tf.assign_add is deprecated. Please use tf.compat.v1.assign_add instead.\n",
            "\n",
            "WARNING:tensorflow:From /usr/local/lib/python3.6/dist-packages/keras/backend/tensorflow_backend.py:1020: The name tf.assign is deprecated. Please use tf.compat.v1.assign instead.\n",
            "\n",
            "WARNING:tensorflow:From /usr/local/lib/python3.6/dist-packages/keras/backend/tensorflow_backend.py:3005: The name tf.Session is deprecated. Please use tf.compat.v1.Session instead.\n",
            "\n",
            "Train on 2397 samples, validate on 2332 samples\n",
            "Epoch 1/50\n",
            "WARNING:tensorflow:From /usr/local/lib/python3.6/dist-packages/keras/backend/tensorflow_backend.py:190: The name tf.get_default_session is deprecated. Please use tf.compat.v1.get_default_session instead.\n",
            "\n",
            "WARNING:tensorflow:From /usr/local/lib/python3.6/dist-packages/keras/backend/tensorflow_backend.py:197: The name tf.ConfigProto is deprecated. Please use tf.compat.v1.ConfigProto instead.\n",
            "\n",
            "WARNING:tensorflow:From /usr/local/lib/python3.6/dist-packages/keras/backend/tensorflow_backend.py:207: The name tf.global_variables is deprecated. Please use tf.compat.v1.global_variables instead.\n",
            "\n",
            "WARNING:tensorflow:From /usr/local/lib/python3.6/dist-packages/keras/backend/tensorflow_backend.py:216: The name tf.is_variable_initialized is deprecated. Please use tf.compat.v1.is_variable_initialized instead.\n",
            "\n",
            "WARNING:tensorflow:From /usr/local/lib/python3.6/dist-packages/keras/backend/tensorflow_backend.py:223: The name tf.variables_initializer is deprecated. Please use tf.compat.v1.variables_initializer instead.\n",
            "\n",
            "2397/2397 [==============================] - 60s 25ms/step - loss: 1.4744 - acc: 0.4147 - val_loss: 1.0430 - val_acc: 0.6295\n",
            "Epoch 2/50\n",
            "2397/2397 [==============================] - 37s 15ms/step - loss: 0.9410 - acc: 0.6554 - val_loss: 0.7648 - val_acc: 0.7191\n",
            "Epoch 3/50\n",
            "2397/2397 [==============================] - 37s 15ms/step - loss: 0.7585 - acc: 0.7376 - val_loss: 0.6935 - val_acc: 0.7762\n",
            "Epoch 4/50\n",
            "2397/2397 [==============================] - 37s 15ms/step - loss: 0.6150 - acc: 0.7952 - val_loss: 0.6858 - val_acc: 0.7264\n",
            "Epoch 5/50\n",
            "2397/2397 [==============================] - 37s 15ms/step - loss: 0.5423 - acc: 0.8269 - val_loss: 0.6720 - val_acc: 0.7817\n",
            "Epoch 6/50\n",
            "2397/2397 [==============================] - 37s 15ms/step - loss: 0.4608 - acc: 0.8419 - val_loss: 0.7946 - val_acc: 0.7560\n",
            "Epoch 7/50\n",
            "2397/2397 [==============================] - 37s 15ms/step - loss: 0.4028 - acc: 0.8598 - val_loss: 0.5985 - val_acc: 0.8353\n",
            "Epoch 8/50\n",
            "2397/2397 [==============================] - 37s 15ms/step - loss: 0.3619 - acc: 0.8840 - val_loss: 0.6127 - val_acc: 0.8208\n",
            "Epoch 9/50\n",
            "2397/2397 [==============================] - 37s 15ms/step - loss: 0.3382 - acc: 0.8949 - val_loss: 0.7322 - val_acc: 0.7972\n",
            "Epoch 10/50\n",
            "2397/2397 [==============================] - 37s 15ms/step - loss: 0.3609 - acc: 0.8849 - val_loss: 0.5466 - val_acc: 0.8615\n",
            "Epoch 11/50\n",
            "2397/2397 [==============================] - 37s 15ms/step - loss: 0.3308 - acc: 0.8974 - val_loss: 0.6325 - val_acc: 0.8113\n",
            "Epoch 12/50\n",
            "2397/2397 [==============================] - 37s 15ms/step - loss: 0.3590 - acc: 0.8919 - val_loss: 0.7154 - val_acc: 0.7757\n",
            "Epoch 13/50\n",
            "2397/2397 [==============================] - 37s 15ms/step - loss: 0.3329 - acc: 0.9007 - val_loss: 0.6054 - val_acc: 0.8521\n",
            "Epoch 14/50\n",
            "2397/2397 [==============================] - 37s 15ms/step - loss: 0.3110 - acc: 0.9120 - val_loss: 0.7331 - val_acc: 0.7680\n",
            "Epoch 15/50\n",
            "2397/2397 [==============================] - 37s 15ms/step - loss: 0.2799 - acc: 0.9174 - val_loss: 0.6779 - val_acc: 0.8388\n",
            "Epoch 16/50\n",
            "2397/2397 [==============================] - 37s 15ms/step - loss: 0.2662 - acc: 0.9257 - val_loss: 0.6438 - val_acc: 0.8623\n",
            "Epoch 17/50\n",
            "2397/2397 [==============================] - 37s 15ms/step - loss: 0.2569 - acc: 0.9341 - val_loss: 0.6374 - val_acc: 0.8525\n",
            "Epoch 18/50\n",
            "2397/2397 [==============================] - 37s 15ms/step - loss: 0.2702 - acc: 0.9212 - val_loss: 0.9198 - val_acc: 0.7749\n",
            "Epoch 19/50\n",
            "2397/2397 [==============================] - 37s 15ms/step - loss: 0.2601 - acc: 0.9232 - val_loss: 0.7607 - val_acc: 0.8002\n",
            "Epoch 20/50\n",
            "2397/2397 [==============================] - 37s 15ms/step - loss: 0.2433 - acc: 0.9316 - val_loss: 0.5787 - val_acc: 0.8563\n",
            "Epoch 21/50\n",
            "2397/2397 [==============================] - 37s 15ms/step - loss: 0.2081 - acc: 0.9458 - val_loss: 0.5934 - val_acc: 0.8589\n",
            "Epoch 22/50\n",
            "2397/2397 [==============================] - 37s 15ms/step - loss: 0.2251 - acc: 0.9383 - val_loss: 0.6202 - val_acc: 0.8289\n",
            "Epoch 23/50\n",
            "2397/2397 [==============================] - 37s 15ms/step - loss: 0.2006 - acc: 0.9541 - val_loss: 0.5286 - val_acc: 0.8645\n",
            "Epoch 24/50\n",
            "2397/2397 [==============================] - 37s 15ms/step - loss: 0.2303 - acc: 0.9462 - val_loss: 0.5478 - val_acc: 0.8521\n",
            "Epoch 25/50\n",
            "2397/2397 [==============================] - 37s 15ms/step - loss: 0.2094 - acc: 0.9495 - val_loss: 0.5717 - val_acc: 0.8263\n",
            "Epoch 26/50\n",
            "2397/2397 [==============================] - 37s 15ms/step - loss: 0.2284 - acc: 0.9328 - val_loss: 0.5598 - val_acc: 0.8529\n",
            "Epoch 27/50\n",
            "2397/2397 [==============================] - 37s 15ms/step - loss: 0.2378 - acc: 0.9349 - val_loss: 0.7333 - val_acc: 0.7826\n",
            "Epoch 28/50\n",
            "2397/2397 [==============================] - 37s 15ms/step - loss: 0.2013 - acc: 0.9416 - val_loss: 0.5257 - val_acc: 0.8748\n",
            "Epoch 29/50\n",
            "2397/2397 [==============================] - 37s 15ms/step - loss: 0.1682 - acc: 0.9620 - val_loss: 0.5293 - val_acc: 0.8641\n",
            "Epoch 30/50\n",
            "2397/2397 [==============================] - 37s 15ms/step - loss: 0.1691 - acc: 0.9524 - val_loss: 0.6226 - val_acc: 0.8606\n",
            "Epoch 31/50\n",
            "2397/2397 [==============================] - 37s 15ms/step - loss: 0.1760 - acc: 0.9529 - val_loss: 0.5852 - val_acc: 0.8426\n",
            "Epoch 32/50\n",
            "2397/2397 [==============================] - 37s 15ms/step - loss: 0.2135 - acc: 0.9424 - val_loss: 0.9013 - val_acc: 0.7706\n",
            "Epoch 33/50\n",
            "2397/2397 [==============================] - 37s 15ms/step - loss: 0.3477 - acc: 0.9040 - val_loss: 0.5061 - val_acc: 0.8628\n",
            "Epoch 34/50\n",
            "2397/2397 [==============================] - 37s 15ms/step - loss: 0.2605 - acc: 0.9383 - val_loss: 0.6643 - val_acc: 0.8310\n",
            "Epoch 35/50\n",
            "2397/2397 [==============================] - 37s 15ms/step - loss: 0.2279 - acc: 0.9479 - val_loss: 0.7614 - val_acc: 0.8259\n",
            "Epoch 36/50\n",
            "2397/2397 [==============================] - 37s 15ms/step - loss: 0.2015 - acc: 0.9508 - val_loss: 0.5428 - val_acc: 0.8654\n",
            "Epoch 37/50\n",
            "2397/2397 [==============================] - 37s 15ms/step - loss: 0.1645 - acc: 0.9645 - val_loss: 0.5758 - val_acc: 0.8872\n",
            "Epoch 38/50\n",
            "2397/2397 [==============================] - 37s 15ms/step - loss: 0.1764 - acc: 0.9524 - val_loss: 0.4609 - val_acc: 0.8919\n",
            "Epoch 39/50\n",
            "2397/2397 [==============================] - 37s 15ms/step - loss: 0.1641 - acc: 0.9637 - val_loss: 0.5520 - val_acc: 0.8739\n",
            "Epoch 40/50\n",
            "2397/2397 [==============================] - 37s 15ms/step - loss: 0.1434 - acc: 0.9720 - val_loss: 0.4559 - val_acc: 0.8949\n",
            "Epoch 41/50\n",
            "2397/2397 [==============================] - 37s 15ms/step - loss: 0.1468 - acc: 0.9620 - val_loss: 0.5737 - val_acc: 0.8461\n",
            "Epoch 42/50\n",
            "2397/2397 [==============================] - 37s 15ms/step - loss: 0.1510 - acc: 0.9695 - val_loss: 0.6645 - val_acc: 0.8401\n",
            "Epoch 43/50\n",
            "2397/2397 [==============================] - 37s 15ms/step - loss: 0.1470 - acc: 0.9666 - val_loss: 0.5190 - val_acc: 0.8714\n",
            "Epoch 44/50\n",
            "2397/2397 [==============================] - 37s 15ms/step - loss: 0.1372 - acc: 0.9670 - val_loss: 0.5275 - val_acc: 0.8696\n",
            "Epoch 45/50\n",
            "2397/2397 [==============================] - 37s 15ms/step - loss: 0.1187 - acc: 0.9804 - val_loss: 0.4438 - val_acc: 0.8859\n",
            "Epoch 46/50\n",
            "2397/2397 [==============================] - 37s 15ms/step - loss: 0.1111 - acc: 0.9812 - val_loss: 0.4323 - val_acc: 0.8941\n",
            "Epoch 47/50\n",
            "2397/2397 [==============================] - 37s 15ms/step - loss: 0.1113 - acc: 0.9762 - val_loss: 0.5080 - val_acc: 0.8889\n",
            "Epoch 48/50\n",
            "2397/2397 [==============================] - 37s 15ms/step - loss: 0.1036 - acc: 0.9829 - val_loss: 0.4161 - val_acc: 0.9001\n",
            "Epoch 49/50\n",
            "2397/2397 [==============================] - 37s 15ms/step - loss: 0.0937 - acc: 0.9900 - val_loss: 0.4618 - val_acc: 0.8894\n",
            "Epoch 50/50\n",
            "2397/2397 [==============================] - 37s 15ms/step - loss: 0.0974 - acc: 0.9816 - val_loss: 0.5658 - val_acc: 0.8726\n"
          ],
          "name": "stdout"
        }
      ]
    },
    {
      "cell_type": "code",
      "metadata": {
        "colab_type": "code",
        "id": "f2hlkvt5C-36",
        "outputId": "c624c7cc-6f30-4e05-e6cc-511af631ef57",
        "colab": {
          "base_uri": "https://localhost:8080/",
          "height": 573
        }
      },
      "source": [
        "import matplotlib.pyplot as plt\n",
        "\n",
        "# Plot training & validation accuracy values\n",
        "plt.plot(trained_model.history['acc'])\n",
        "plt.plot(trained_model.history['val_acc'])\n",
        "plt.title('Model accuracy')\n",
        "plt.ylabel('Accuracy') \n",
        "plt.xlabel('Epoch')\n",
        "plt.legend(['Train', 'Test'], loc='upper left')\n",
        "plt.show()\n",
        "\n",
        "# Plot training & validation loss values\n",
        "plt.plot(trained_model.history['loss'])\n",
        "plt.plot(trained_model.history['val_loss'])\n",
        "plt.title('Model loss')\n",
        "plt.ylabel('Loss')\n",
        "plt.xlabel('Epoch')\n",
        "plt.legend(['Train', 'Test'], loc='upper left')\n",
        "plt.show()"
      ],
      "execution_count": 62,
      "outputs": [
        {
          "output_type": "display_data",
          "data": {
            "image/png": "[encoded data removed]",
            "text/plain": [
              "<Figure size 432x288 with 1 Axes>"
            ]
          },
          "metadata": {
            "tags": []
          }
        },
        {
          "output_type": "display_data",
          "data": {
            "image/png": "[encoded data removed]",
            "text/plain": [
              "<Figure size 432x288 with 1 Axes>"
            ]
          },
          "metadata": {
            "tags": []
          }
        }
      ]
    },
    {
      "cell_type": "markdown",
      "metadata": {
        "id": "roN0aTvvxPAv",
        "colab_type": "text"
      },
      "source": [
        "##Evaluating The Model\n",
        "### 1) Simple Evaluation \n"
      ]
    },
    {
      "cell_type": "code",
      "metadata": {
        "colab_type": "code",
        "id": "_1m2zJ-YC-3_",
        "outputId": "6b03cd80-63a2-40d1-e083-af6097beb80c",
        "colab": {
          "base_uri": "https://localhost:8080/",
          "height": 52
        }
      },
      "source": [
        "model.evaluate([test_spatial_data, test_temporal_data], y_test)"
      ],
      "execution_count": 117,
      "outputs": [
        {
          "output_type": "stream",
          "text": [
            "2537/2537 [==============================] - 10s 4ms/step\n"
          ],
          "name": "stdout"
        },
        {
          "output_type": "execute_result",
          "data": {
            "text/plain": [
              "[0.5672025045639005, 0.8352384706346078]"
            ]
          },
          "metadata": {
            "tags": []
          },
          "execution_count": 117
        }
      ]
    },
    {
      "cell_type": "markdown",
      "metadata": {
        "id": "c6WRNgib37q_",
        "colab_type": "text"
      },
      "source": [
        "### 2) Average Prediction Evaluation"
      ]
    },
    {
      "cell_type": "code",
      "metadata": {
        "id": "5XpBGaAJ5fPv",
        "colab_type": "code",
        "outputId": "40e224b4-af23-4d70-fa84-5fcbc80354f1",
        "colab": {
          "base_uri": "https://localhost:8080/",
          "height": 311
        }
      },
      "source": [
        "# Confusion matrix \n",
        "from sklearn.metrics import confusion_matrix\n",
        "import itertools\n",
        "\n",
        "def plot_confusion_matrix(cm, classes,\n",
        "                          normalize=False,\n",
        "                          title='Confusion matrix',\n",
        "                          cmap=plt.cm.Blues):\n",
        "  \n",
        "    plt.imshow(cm, interpolation='nearest', cmap=cmap)\n",
        "    plt.title(title)\n",
        "    plt.colorbar()\n",
        "    tick_marks = np.arange(len(classes))\n",
        "    plt.xticks(tick_marks, classes, rotation=45)\n",
        "    plt.yticks(tick_marks, classes)\n",
        "\n",
        "    if normalize:\n",
        "        cm = cm.astype('float') / cm.sum(axis=1)[:, np.newaxis]\n",
        "\n",
        "    thresh = cm.max() / 2.\n",
        "    for i, j in itertools.product(range(cm.shape[0]), range(cm.shape[1])):\n",
        "        plt.text(j, i, cm[i, j],\n",
        "                 horizontalalignment=\"center\",\n",
        "                 color=\"white\" if cm[i, j] > thresh else \"black\")\n",
        "\n",
        "    plt.tight_layout()\n",
        "    plt.ylabel('True label')\n",
        "    plt.xlabel('Predicted label')\n",
        "Y_pred = model.predict([test_spatial_data, test_temporal_data])\n",
        "Y_pred_classes = np.argmax(Y_pred,axis = 1) \n",
        "Y_true = np.argmax(y_test,axis = 1) \n",
        "confusion_mtx = confusion_matrix(Y_true, Y_pred_classes) \n",
        "plot_confusion_matrix(confusion_mtx, classes = CATEGORIES) "
      ],
      "execution_count": 118,
      "outputs": [
        {
          "output_type": "display_data",
          "data": {
            "image/png": "[encoded data removed]",
            "text/plain": [
              "<Figure size 432x288 with 2 Axes>"
            ]
          },
          "metadata": {
            "tags": []
          }
        }
      ]
    },
    {
      "cell_type": "code",
      "metadata": {
        "id": "H0jL6nSa5IBn",
        "colab_type": "code",
        "colab": {}
      },
      "source": [
        "preds = np.array([])\n",
        "pred_y = []\n",
        "i = 0\n",
        "\n",
        "for video_seq_index in range(len(X_test_average_prediction_data)):\n",
        "  X_test_avg, test_avg_flow_x, test_avg_flow_y = np.array([ _['frames'] for _ in X_test_average_prediction_data[video_seq_index]]), np.array([ _['flow_x'] for _ in X_test_average_prediction_data[video_seq_index]]), np.array([ _['flow_y'] for _ in X_test_average_prediction_data[video_seq_index]])\n",
        "  y_per_vid = np.array([])\n",
        "  X_test_flow_avg = np.concatenate((test_avg_flow_x, test_avg_flow_y), axis=1)\n",
        "  p = model.predict([X_test_avg, X_test_flow_avg])\n",
        "  results = np.array(p).mean(axis=0)\n",
        "  index = np.argmax(results)\n",
        "  label = CATEGORIES[index]\n",
        "  pred_y.append(index)\n",
        "  preds = np.append(preds, p)\n",
        "  i+=1\n",
        "\n",
        "pred_y = np.array(pred_y, dtype=np.str)"
      ],
      "execution_count": 0,
      "outputs": []
    },
    {
      "cell_type": "code",
      "metadata": {
        "id": "N8oY3rv2bX2T",
        "colab_type": "code",
        "outputId": "6ad978b4-1fc2-4677-afb1-80490e505901",
        "colab": {
          "base_uri": "https://localhost:8080/",
          "height": 34
        }
      },
      "source": [
        "y_test_average_prediction[0]"
      ],
      "execution_count": 120,
      "outputs": [
        {
          "output_type": "execute_result",
          "data": {
            "text/plain": [
              "array([0, 0, 0, 0, 0, 0, 0, 0, 0, 0, 0, 0, 0])"
            ]
          },
          "metadata": {
            "tags": []
          },
          "execution_count": 120
        }
      ]
    },
    {
      "cell_type": "code",
      "metadata": {
        "id": "X9zn3TKw5KCQ",
        "colab_type": "code",
        "colab": {}
      },
      "source": [
        "y_test_per_video_classes = []\n",
        "y_test_per_video_seq = y_test_average_prediction\n",
        "\n",
        "y_test_per_video = []\n",
        "for y in y_test_per_video_seq:\n",
        "  y_test_per_video.append(to_categorical(y[0]))\n",
        "  y_test_per_video_classes.append(y[0])\n",
        "y_test_per_video_classes = np.array(y_test_per_video_classes, dtype=np.str)"
      ],
      "execution_count": 0,
      "outputs": []
    },
    {
      "cell_type": "code",
      "metadata": {
        "id": "tIiu479Ac1g2",
        "colab_type": "code",
        "outputId": "df6b56a4-de7d-4bbe-aeb8-a7e5e9311915",
        "colab": {
          "base_uri": "https://localhost:8080/",
          "height": 34
        }
      },
      "source": [
        "y_test_per_video_classes.shape, pred_y.shape"
      ],
      "execution_count": 122,
      "outputs": [
        {
          "output_type": "execute_result",
          "data": {
            "text/plain": [
              "((216,), (216,))"
            ]
          },
          "metadata": {
            "tags": []
          },
          "execution_count": 122
        }
      ]
    },
    {
      "cell_type": "code",
      "metadata": {
        "colab_type": "code",
        "id": "kkF_wqNY5xKP",
        "outputId": "1724d370-a226-463c-853f-0cf2e0b57c73",
        "colab": {
          "base_uri": "https://localhost:8080/",
          "height": 311
        }
      },
      "source": [
        "confusion_mtx = confusion_matrix(y_test_per_video_classes, pred_y) \n",
        "plot_confusion_matrix(confusion_mtx, classes = CATEGORIES) "
      ],
      "execution_count": 123,
      "outputs": [
        {
          "output_type": "display_data",
          "data": {
            "image/png": "[encoded data removed]",
            "text/plain": [
              "<Figure size 432x288 with 2 Axes>"
            ]
          },
          "metadata": {
            "tags": []
          }
        }
      ]
    },
    {
      "cell_type": "code",
      "metadata": {
        "colab_type": "code",
        "id": "5Hctzze45wmB",
        "outputId": "2bda2835-07e0-4690-b353-a291ab4de8e8",
        "colab": {
          "base_uri": "https://localhost:8080/",
          "height": 34
        }
      },
      "source": [
        "i=0\n",
        "acc=0\n",
        "for y in pred_y:\n",
        "  if(y == y_test_per_video_classes[i]):\n",
        "    acc+=1\n",
        "  i+=1\n",
        "accuracy = acc / len(pred_y)\n",
        "print(\"Average Prediction Accuracy : %s\" % accuracy)"
      ],
      "execution_count": 124,
      "outputs": [
        {
          "output_type": "stream",
          "text": [
            "Average Prediction Accuracy : 0.8518518518518519\n"
          ],
          "name": "stdout"
        }
      ]
    },
    {
      "cell_type": "markdown",
      "metadata": {
        "id": "dMxB3Yyc2yHB",
        "colab_type": "text"
      },
      "source": [
        "### 3) Max Prediction Evaluation"
      ]
    },
    {
      "cell_type": "code",
      "metadata": {
        "id": "LuNk2oDTwRUB",
        "colab_type": "code",
        "colab": {}
      },
      "source": [
        "preds = np.array([])\n",
        "pred_y = []\n",
        "i = 0\n",
        "\n",
        "for video_seq_index in range(len(X_test_average_prediction_data)):\n",
        "  X_test_avg, test_avg_flow_x, test_avg_flow_y = np.array([ _['frames'] for _ in X_test_average_prediction_data[video_seq_index]]), np.array([ _['flow_x'] for _ in X_test_average_prediction_data[video_seq_index]]), np.array([ _['flow_y'] for _ in X_test_average_prediction_data[video_seq_index]])\n",
        "  y_per_vid = np.array([])\n",
        "  X_test_flow_avg = np.concatenate((test_avg_flow_x, test_avg_flow_y), axis=1)\n",
        "  p = model.predict([X_test_avg, X_test_flow_avg])\n",
        "  results = np.array(p).max(axis=0)\n",
        "  index = np.argmax(results)\n",
        "  label = CATEGORIES[index]\n",
        "  pred_y.append(index)\n",
        "  preds = np.append(preds, p)\n",
        "  i+=1\n",
        "\n",
        "pred_y = np.array(pred_y, dtype=np.str)"
      ],
      "execution_count": 0,
      "outputs": []
    },
    {
      "cell_type": "code",
      "metadata": {
        "id": "-mwhRPh7wZST",
        "colab_type": "code",
        "colab": {}
      },
      "source": [
        "y_test_per_video_classes = []\n",
        "y_test_per_video_seq = y_test_average_prediction\n",
        "\n",
        "y_test_per_video = []\n",
        "for y in y_test_per_video_seq:\n",
        "  y_test_per_video.append(to_categorical(y[0]))\n",
        "  y_test_per_video_classes.append(y[0])\n",
        "y_test_per_video_classes = np.array(y_test_per_video_classes, dtype=np.str)"
      ],
      "execution_count": 0,
      "outputs": []
    },
    {
      "cell_type": "code",
      "metadata": {
        "id": "rgdP6m1WwpLL",
        "colab_type": "code",
        "outputId": "f0111d53-2021-465b-cfc8-a255de8c66e7",
        "colab": {
          "base_uri": "https://localhost:8080/",
          "height": 311
        }
      },
      "source": [
        "confusion_mtx = confusion_matrix(y_test_per_video_classes, pred_y) \n",
        "plot_confusion_matrix(confusion_mtx, classes = CATEGORIES) "
      ],
      "execution_count": 127,
      "outputs": [
        {
          "output_type": "display_data",
          "data": {
            "image/png": "[encoded data removed]",
            "text/plain": [
              "<Figure size 432x288 with 2 Axes>"
            ]
          },
          "metadata": {
            "tags": []
          }
        }
      ]
    },
    {
      "cell_type": "code",
      "metadata": {
        "id": "ZilrDjmLxNNL",
        "colab_type": "code",
        "outputId": "916099a2-7d6b-4d64-9001-a2fa111c099f",
        "colab": {
          "base_uri": "https://localhost:8080/",
          "height": 34
        }
      },
      "source": [
        "i=0\n",
        "acc=0\n",
        "for y in pred_y:\n",
        "  if(y == y_test_per_video_classes[i]):\n",
        "    acc+=1\n",
        "  i+=1\n",
        "accuracy = acc / len(pred_y)\n",
        "print(\"Max Prediction Accuracy : %s\" % accuracy)"
      ],
      "execution_count": 128,
      "outputs": [
        {
          "output_type": "stream",
          "text": [
            "Max Prediction Accuracy : 0.8379629629629629\n"
          ],
          "name": "stdout"
        }
      ]
    },
    {
      "cell_type": "markdown",
      "metadata": {
        "id": "1a5hltyPyX2d",
        "colab_type": "text"
      },
      "source": [
        "##Saving The Model "
      ]
    },
    {
      "cell_type": "code",
      "metadata": {
        "id": "n1qpf7_inHmP",
        "colab_type": "code",
        "colab": {}
      },
      "source": [
        "model.save_weights('2Stream_KTH.h5')"
      ],
      "execution_count": 0,
      "outputs": []
    },
    {
      "cell_type": "code",
      "metadata": {
        "id": "Sqzz77lhnFbf",
        "colab_type": "code",
        "colab": {}
      },
      "source": [
        "plot_model(model, show_shapes=True, to_file='2Stream_KTH.png')"
      ],
      "execution_count": 0,
      "outputs": []
    }
  ]
}
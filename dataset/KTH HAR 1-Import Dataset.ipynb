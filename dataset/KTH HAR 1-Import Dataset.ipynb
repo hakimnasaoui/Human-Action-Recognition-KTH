{
  "nbformat": 4,
  "nbformat_minor": 0,
  "metadata": {
    "colab": {
      "name": "KTH HAR - Import Dataset.ipynb",
      "provenance": [],
      "collapsed_sections": []
    },
    "kernelspec": {
      "name": "python3",
      "display_name": "Python 3"
    },
    "accelerator": "GPU"
  },
  "cells": [
    {
      "cell_type": "markdown",
      "metadata": {
        "id": "qmelT5GEFuaF",
        "colab_type": "text"
      },
      "source": [
        "#Import KTH Dataset\n",
        "Remove \"!\" if you are runnning this script on your local machine\n",
        "Note: The database is publicly available for non-commercial use. \n",
        "\n",
        "Please refer to [Schuldt, Laptev and Caputo, Proc. ICPR'04, Cambridge, UK ] if you use this database in your publications.\n",
        "\n",
        "* walking.zip (242Mb)\n",
        "* jogging.zip (168Mb)\n",
        "* running.zip (149Mb)\n",
        "* boxing.zip (194Mb)\n",
        "* handwaving.zip (218Mb)\n",
        "* handclapping.zip (176Mb)\n",
        "\n",
        "[Dataset link](http://www.nada.kth.se/cvap/actions/)"
      ]
    },
    {
      "cell_type": "code",
      "metadata": {
        "id": "HRLFaMocwrdn",
        "colab_type": "code",
        "colab": {}
      },
      "source": [
        "!wget http://www.nada.kth.se/cvap/actions/boxing.zip\n",
        "!wget http://www.nada.kth.se/cvap/actions/handclapping.zip\n",
        "!wget http://www.nada.kth.se/cvap/actions/handwaving.zip\n",
        "!wget http://www.nada.kth.se/cvap/actions/jogging.zip\n",
        "!wget http://www.nada.kth.se/cvap/actions/running.zip\n",
        "!wget http://www.nada.kth.se/cvap/actions/walking.zip\n",
        "\n",
        "!unzip boxing.zip -d boxing\n",
        "!unzip handclapping.zip -d handclapping\n",
        "!unzip handwaving.zip -d handwaving\n",
        "!unzip jogging.zip -d jogging\n",
        "!unzip running.zip -d running\n",
        "!unzip walking.zip -d walking\n",
        "\n",
        "!rm *.zip"
      ],
      "execution_count": 0,
      "outputs": []
    }
  ]
}

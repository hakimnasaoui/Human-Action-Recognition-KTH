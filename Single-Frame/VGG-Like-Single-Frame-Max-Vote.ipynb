{
  "nbformat": 4,
  "nbformat_minor": 0,
  "metadata": {
    "colab": {
      "name": "KTH - Single Frame Model - max prediction",
      "provenance": [],
      "collapsed_sections": [],
      "machine_shape": "hm"
    },
    "kernelspec": {
      "name": "python3",
      "display_name": "Python 3"
    },
    "accelerator": "GPU"
  },
  "cells": [
    {
      "cell_type": "code",
      "metadata": {
        "id": "1gFlJkQsDDv2",
        "colab_type": "code",
        "colab": {}
      },
      "source": [
        "import imageio\n",
        "import cv2\n",
        "import numpy as np\n",
        "import os\n",
        "import pickle\n",
        "import re\n",
        "import PIL\n",
        "from PIL import Image"
      ],
      "execution_count": 0,
      "outputs": []
    },
    {
      "cell_type": "markdown",
      "metadata": {
        "id": "jfZ65qy1nNKs",
        "colab_type": "text"
      },
      "source": [
        "## Challenge Categories"
      ]
    },
    {
      "cell_type": "code",
      "metadata": {
        "id": "84evb19tDEsu",
        "colab_type": "code",
        "colab": {}
      },
      "source": [
        "CATEGORIES = [\n",
        "    \"boxing\",\n",
        "    \"handclapping\",\n",
        "    \"handwaving\",\n",
        "    \"jogging\",\n",
        "    \"running\",\n",
        "    \"walking\"\n",
        "]\n",
        "\n",
        "IMG_W = 60\n",
        "IMG_H = 80\n",
        "CHANNELS = 1\n",
        "INPUT_SHAPE = (IMG_W, IMG_H, CHANNELS)\n",
        "NCLASSES = 6\n",
        "MAX_TRAIN_DEV_FRAMES_PER_VIDEO = 0 # NO MAX NEEDED = EXTRACT ALL FRAMES  \n",
        "MAX_TEST_FRAMES_PER_VIDEO = 0 # frames per each video to perform max prediction over each video\n",
        "\n",
        "EPOCHS = 5\n",
        "BATCH_SIZE = 64"
      ],
      "execution_count": 0,
      "outputs": []
    },
    {
      "cell_type": "markdown",
      "metadata": {
        "id": "JQq8L90xnKL-",
        "colab_type": "text"
      },
      "source": [
        "### Spliting The Dataset"
      ]
    },
    {
      "cell_type": "code",
      "metadata": {
        "id": "bqCF-3aODFx4",
        "colab_type": "code",
        "colab": {}
      },
      "source": [
        "# Dataset are divided according to the instruction at:\n",
        "# http://www.nada.kth.se/cvap/actions/00sequences.txt\n",
        "TRAIN_PEOPLE_ID = [11, 12, 13, 14, 15, 16, 17, 18]\n",
        "DEV_PEOPLE_ID = [19, 20, 21, 23, 24, 25, 1, 4]\n",
        "TEST_PEOPLE_ID = [22, 2, 3, 5, 6, 7, 8, 9, 10]"
      ],
      "execution_count": 0,
      "outputs": []
    },
    {
      "cell_type": "markdown",
      "metadata": {
        "id": "4dFWk7zlmoFr",
        "colab_type": "text"
      },
      "source": [
        "## Loading The Dataset"
      ]
    },
    {
      "cell_type": "code",
      "metadata": {
        "id": "3WYkEKe5z1Ie",
        "colab_type": "code",
        "outputId": "21faaa46-8b18-48d5-90e7-bfb760e372f4",
        "colab": {
          "base_uri": "https://localhost:8080/",
          "height": 54
        }
      },
      "source": [
        "from google.colab import drive\n",
        "drive.mount('/content/drive')"
      ],
      "execution_count": 0,
      "outputs": []
    },
    {
      "cell_type": "code",
      "metadata": {
        "id": "Wh9jKgXymPs4",
        "colab_type": "code",
        "outputId": "972ab2a1-15d8-4a6a-cff1-e125133ce025",
        "colab": {
          "base_uri": "https://localhost:8080/",
          "height": 34
        }
      },
      "source": [
        "print(\"Loading dataset ..\")\n",
        "train_videos = pickle.load(open(\"/content/drive/My Drive/DATASETS/KTH/Dataset pickles/train.p\", \"rb\"))\n",
        "dev_videos = pickle.load(open(\"/content/drive/My Drive/DATASETS/KTH/Dataset pickles/dev.p\", \"rb\"))\n",
        "test_videos = pickle.load(open(\"/content/drive/My Drive/DATASETS/KTH/Dataset pickles/test.p\", \"rb\"))"
      ],
      "execution_count": 0,
      "outputs": [
        {
          "output_type": "stream",
          "text": [
            "Loading dataset ..\n"
          ],
          "name": "stdout"
        }
      ]
    },
    {
      "cell_type": "markdown",
      "metadata": {
        "id": "uW3ClxPsUN8S",
        "colab_type": "text"
      },
      "source": [
        "##Preparing The Dataset"
      ]
    },
    {
      "cell_type": "code",
      "metadata": {
        "id": "W3hcWGVCXrvG",
        "colab_type": "code",
        "colab": {}
      },
      "source": [
        "def read_ds(ds=\"train\", max_frames_per_video=0, separate_each_video=False):\n",
        "  if(ds == \"dev\"):\n",
        "    videos = dev_videos\n",
        "  elif (ds == \"test\"):\n",
        "    videos = test_videos\n",
        "  else:\n",
        "    videos = train_videos\n",
        "      \n",
        "  X = []\n",
        "  y = []\n",
        "  i=0\n",
        "  X_per_video = []\n",
        "  y_per_video = []\n",
        "  print(\"total videos : %s\" % len(videos))\n",
        "\n",
        "  for video in videos: \n",
        "\n",
        "    if(max_frames_per_video == 0):\n",
        "\n",
        "        for frame in video[\"frames\"]:\n",
        "            X.append(frame.reshape(INPUT_SHAPE))\n",
        "            y.append(CATEGORIES.index(video[\"category\"]))\n",
        "  \n",
        "        if(separate_each_video):\n",
        "            X_per_video.append(np.array(X, dtype=np.float32))\n",
        "            y_per_video.append(np.array(y, dtype=np.uint8))\n",
        "            X = []\n",
        "            y = []  \n",
        "        \n",
        "    elif(max_frames_per_video == 1):\n",
        "\n",
        "        index = np.random.choice(len(video[\"frames\"]))\n",
        "        frame_data = video[\"frames\"][index]\n",
        "  \n",
        "        X.append(frame_data.reshape(INPUT_SHAPE))\n",
        "        y.append(CATEGORIES.index(video[\"category\"]))\n",
        "\n",
        "    else:\n",
        "\n",
        "        skip = (len(video[\"frames\"]) // max_frames_per_video)\n",
        "\n",
        "        for i in range(0, len(video[\"frames\"]), skip):\n",
        "          X.append(np.array(video[\"frames\"][i].reshape(INPUT_SHAPE), dtype=np.float32))\n",
        "        \n",
        "        y.append(np.array(CATEGORIES.index(video[\"category\"]), dtype=np.uint8))\n",
        "        \n",
        "        \n",
        "        X = X[:max_frames_per_video]\n",
        "        \n",
        "        X_per_video.append(np.array(X, dtype=np.float32))\n",
        "        y_per_video.append(np.array(y, dtype=np.uint8))\n",
        "\n",
        "        X = []\n",
        "        y = []  \n",
        "      \n",
        "\n",
        "  X = np.array(X, dtype=np.float32)\n",
        "  y = np.array(y, dtype=np.uint8)\n",
        "\n",
        "\n",
        "  if (max_frames_per_video <= 0):\n",
        "    if(separate_each_video):\n",
        "      for x in X_per_video:\n",
        "        mean = np.mean(x)\n",
        "        x -= float(mean)\n",
        "        return np.array(X_per_video), np.array(y_per_video)\n",
        "    \n",
        "    mean = np.mean(X)\n",
        "    X -= float(mean)\n",
        "    \n",
        "    return X, y\n",
        "\n",
        "  elif (max_frames_per_video == 1):\n",
        "    mean = np.mean(X)\n",
        "    X -= float(mean)\n",
        "\n",
        "    return X, y\n",
        "  \n",
        "\n",
        "  else: # (max_frames_per_video > 1):\n",
        "    for x in X_per_video:\n",
        "      mean = np.mean(x)\n",
        "      x -= float(mean)\n",
        "      \n",
        "    return np.array(X_per_video), np.array(y_per_video)"
      ],
      "execution_count": 0,
      "outputs": []
    },
    {
      "cell_type": "code",
      "metadata": {
        "id": "PYkyPS4J19jh",
        "colab_type": "code",
        "outputId": "d1932cf2-fe87-4a16-e8a2-b26f9bdc8b5e",
        "colab": {
          "base_uri": "https://localhost:8080/",
          "height": 85
        }
      },
      "source": [
        "X_train, y_train = read_ds(ds=\"train\", max_frames_per_video=MAX_TRAIN_DEV_FRAMES_PER_VIDEO)\n",
        "X_dev, y_dev = read_ds(ds=\"dev\", max_frames_per_video=MAX_TRAIN_DEV_FRAMES_PER_VIDEO)\n",
        "X_test, y_test = read_ds(ds=\"test\", max_frames_per_video=MAX_TRAIN_DEV_FRAMES_PER_VIDEO)\n",
        "X_test_max_prediction, y_test_max_prediction = read_ds(ds=\"test\", max_frames_per_video=MAX_TEST_FRAMES_PER_VIDEO, separate_each_video=True)"
      ],
      "execution_count": 0,
      "outputs": [
        {
          "output_type": "stream",
          "text": [
            "total videos : 191\n",
            "total videos : 192\n",
            "total videos : 216\n",
            "total videos : 216\n"
          ],
          "name": "stdout"
        }
      ]
    },
    {
      "cell_type": "code",
      "metadata": {
        "id": "1nElAK8XsB3Y",
        "colab_type": "code",
        "outputId": "ad81c084-bfea-4de0-cb8b-d0a3fdea0e29",
        "colab": {
          "base_uri": "https://localhost:8080/",
          "height": 34
        }
      },
      "source": [
        "y_train"
      ],
      "execution_count": 0,
      "outputs": [
        {
          "output_type": "execute_result",
          "data": {
            "text/plain": [
              "array([0, 0, 0, ..., 5, 5, 5], dtype=uint8)"
            ]
          },
          "metadata": {
            "tags": []
          },
          "execution_count": 56
        }
      ]
    },
    {
      "cell_type": "code",
      "metadata": {
        "id": "7pcECA5ZYkyL",
        "colab_type": "code",
        "colab": {}
      },
      "source": [
        "import keras\n",
        "from keras.models import Sequential\n",
        "from keras.layers import Dense, Dropout, BatchNormalization, Flatten\n",
        "from keras.layers import Input, ZeroPadding2D, Conv2D, MaxPooling2D, Activation, add\n",
        "from keras.utils import to_categorical\n",
        "from keras.preprocessing import image\n",
        "import numpy as np\n",
        "import pandas as pd\n",
        "import matplotlib.pyplot as plt\n",
        "import tensorflow as tf\n",
        "from tensorflow.keras.utils import plot_model"
      ],
      "execution_count": 0,
      "outputs": []
    },
    {
      "cell_type": "code",
      "metadata": {
        "id": "vb3YvBmf_N4D",
        "colab_type": "code",
        "colab": {}
      },
      "source": [
        "from keras.utils import to_categorical\n",
        "y_train = to_categorical(y_train)\n",
        "y_dev = to_categorical(y_dev)\n",
        "y_test = to_categorical(y_test)"
      ],
      "execution_count": 0,
      "outputs": []
    },
    {
      "cell_type": "markdown",
      "metadata": {
        "id": "8g2mCQDHw7_Q",
        "colab_type": "text"
      },
      "source": [
        "##Preparing The Model (2D CNN - VGG16 Style)"
      ]
    },
    {
      "cell_type": "code",
      "metadata": {
        "id": "eqxITwSuWqXN",
        "colab_type": "code",
        "colab": {}
      },
      "source": [
        "# CNN model (VGG like)\n",
        "model = Sequential()\n",
        "\n",
        "## Stage 2\n",
        "model.add(Conv2D(32,(3,3),activation='relu',input_shape=(IMG_W, IMG_H, CHANNELS)))\n",
        "model.add(BatchNormalization())\n",
        "model.add(Conv2D(32,(3,3),activation='relu',padding='valid'))\n",
        "model.add(BatchNormalization())\n",
        "model.add(MaxPooling2D(pool_size=(2,2),padding='valid'))\n",
        "\n",
        "## Stage 3\n",
        "model.add(Conv2D(64,(3,3),activation='relu',padding='valid'))\n",
        "model.add(BatchNormalization())\n",
        "model.add(Conv2D(64,(3,3),activation='relu',padding='valid'))\n",
        "model.add(BatchNormalization())\n",
        "model.add(MaxPooling2D(pool_size=(2,2),padding='valid'))\n",
        "\n",
        "## Stage 4\n",
        "model.add(Conv2D(128,(3,3),activation='relu',padding='valid'))\n",
        "model.add(BatchNormalization())\n",
        "model.add(Conv2D(128,(3,3),activation='relu',padding='valid'))\n",
        "model.add(BatchNormalization())\n",
        "model.add(MaxPooling2D(pool_size=(2,2),padding='valid'))\n",
        "\n",
        "## Output\n",
        "model.add(Flatten())\n",
        "model.add(Dropout(0.5))\n",
        "model.add(Dense(256,activation='relu'))\n",
        "model.add(BatchNormalization())\n",
        "model.add(Dropout(0.5))\n",
        "model.add(Dense(512,activation='relu'))\n",
        "model.add(Dropout(0.5))\n",
        "model.add(Dense(NCLASSES,activation='softmax'))"
      ],
      "execution_count": 0,
      "outputs": []
    },
    {
      "cell_type": "code",
      "metadata": {
        "id": "E7Mpem1Wj-uW",
        "colab_type": "code",
        "outputId": "c10b59c4-e441-45df-eddb-6b6b0a0bd560",
        "colab": {
          "base_uri": "https://localhost:8080/",
          "height": 935
        }
      },
      "source": [
        "model.summary()"
      ],
      "execution_count": 0,
      "outputs": [
        {
          "output_type": "stream",
          "text": [
            "Model: \"sequential_2\"\n",
            "_________________________________________________________________\n",
            "Layer (type)                 Output Shape              Param #   \n",
            "=================================================================\n",
            "conv2d_7 (Conv2D)            (None, 58, 78, 32)        320       \n",
            "_________________________________________________________________\n",
            "batch_normalization_8 (Batch (None, 58, 78, 32)        128       \n",
            "_________________________________________________________________\n",
            "conv2d_8 (Conv2D)            (None, 56, 76, 32)        9248      \n",
            "_________________________________________________________________\n",
            "batch_normalization_9 (Batch (None, 56, 76, 32)        128       \n",
            "_________________________________________________________________\n",
            "max_pooling2d_4 (MaxPooling2 (None, 28, 38, 32)        0         \n",
            "_________________________________________________________________\n",
            "conv2d_9 (Conv2D)            (None, 26, 36, 64)        18496     \n",
            "_________________________________________________________________\n",
            "batch_normalization_10 (Batc (None, 26, 36, 64)        256       \n",
            "_________________________________________________________________\n",
            "conv2d_10 (Conv2D)           (None, 24, 34, 64)        36928     \n",
            "_________________________________________________________________\n",
            "batch_normalization_11 (Batc (None, 24, 34, 64)        256       \n",
            "_________________________________________________________________\n",
            "max_pooling2d_5 (MaxPooling2 (None, 12, 17, 64)        0         \n",
            "_________________________________________________________________\n",
            "conv2d_11 (Conv2D)           (None, 10, 15, 128)       73856     \n",
            "_________________________________________________________________\n",
            "batch_normalization_12 (Batc (None, 10, 15, 128)       512       \n",
            "_________________________________________________________________\n",
            "conv2d_12 (Conv2D)           (None, 8, 13, 128)        147584    \n",
            "_________________________________________________________________\n",
            "batch_normalization_13 (Batc (None, 8, 13, 128)        512       \n",
            "_________________________________________________________________\n",
            "max_pooling2d_6 (MaxPooling2 (None, 4, 6, 128)         0         \n",
            "_________________________________________________________________\n",
            "flatten_2 (Flatten)          (None, 3072)              0         \n",
            "_________________________________________________________________\n",
            "dropout_4 (Dropout)          (None, 3072)              0         \n",
            "_________________________________________________________________\n",
            "dense_4 (Dense)              (None, 256)               786688    \n",
            "_________________________________________________________________\n",
            "batch_normalization_14 (Batc (None, 256)               1024      \n",
            "_________________________________________________________________\n",
            "dropout_5 (Dropout)          (None, 256)               0         \n",
            "_________________________________________________________________\n",
            "dense_5 (Dense)              (None, 512)               131584    \n",
            "_________________________________________________________________\n",
            "dropout_6 (Dropout)          (None, 512)               0         \n",
            "_________________________________________________________________\n",
            "dense_6 (Dense)              (None, 6)                 3078      \n",
            "=================================================================\n",
            "Total params: 1,210,598\n",
            "Trainable params: 1,209,190\n",
            "Non-trainable params: 1,408\n",
            "_________________________________________________________________\n"
          ],
          "name": "stdout"
        }
      ]
    },
    {
      "cell_type": "code",
      "metadata": {
        "id": "8ZWRUWc0j-rs",
        "colab_type": "code",
        "colab": {}
      },
      "source": [
        "model.compile(optimizer='adam', loss='categorical_crossentropy', metrics=['accuracy'])"
      ],
      "execution_count": 0,
      "outputs": []
    },
    {
      "cell_type": "markdown",
      "metadata": {
        "id": "zB49kLYSxFVE",
        "colab_type": "text"
      },
      "source": [
        "##Training The Model"
      ]
    },
    {
      "cell_type": "code",
      "metadata": {
        "id": "I0Lvrw6Oj-Sg",
        "colab_type": "code",
        "outputId": "ab0654af-1dd4-4c9e-cda5-5b0ca03ff28b",
        "colab": {
          "base_uri": "https://localhost:8080/",
          "height": 224
        }
      },
      "source": [
        "trained_model = model.fit(X_train, y_train, epochs = EPOCHS, batch_size = BATCH_SIZE, validation_data=(X_dev, y_dev) , shuffle=True)"
      ],
      "execution_count": 0,
      "outputs": [
        {
          "output_type": "stream",
          "text": [
            "Train on 74672 samples, validate on 72821 samples\n",
            "Epoch 1/5\n",
            "74672/74672 [==============================] - 40s 540us/step - loss: 0.7168 - acc: 0.6992 - val_loss: 1.2210 - val_acc: 0.5755\n",
            "Epoch 2/5\n",
            "74672/74672 [==============================] - 38s 514us/step - loss: 0.3238 - acc: 0.8614 - val_loss: 1.5269 - val_acc: 0.5426\n",
            "Epoch 3/5\n",
            "74672/74672 [==============================] - 39s 516us/step - loss: 0.2118 - acc: 0.9136 - val_loss: 1.6141 - val_acc: 0.5582\n",
            "Epoch 4/5\n",
            "74672/74672 [==============================] - 39s 517us/step - loss: 0.1600 - acc: 0.9365 - val_loss: 1.5237 - val_acc: 0.6204\n",
            "Epoch 5/5\n",
            "74672/74672 [==============================] - 38s 514us/step - loss: 0.1236 - acc: 0.9523 - val_loss: 1.7962 - val_acc: 0.6022\n"
          ],
          "name": "stdout"
        }
      ]
    },
    {
      "cell_type": "code",
      "metadata": {
        "id": "-DWRINeXm-Ra",
        "colab_type": "code",
        "outputId": "ff6dc113-0ab4-45d8-865c-4a81f1b07fc2",
        "colab": {
          "base_uri": "https://localhost:8080/",
          "height": 573
        }
      },
      "source": [
        "import matplotlib.pyplot as plt\n",
        "\n",
        "# Plot training & validation accuracy values\n",
        "plt.plot(trained_model.history['acc'])\n",
        "plt.plot(trained_model.history['val_acc'])\n",
        "plt.title('Model accuracy')\n",
        "plt.ylabel('Accuracy') \n",
        "plt.xlabel('Epoch')\n",
        "plt.legend(['Train', 'Test'], loc='upper left')\n",
        "plt.show()\n",
        "\n",
        "# Plot training & validation loss values\n",
        "plt.plot(trained_model.history['loss'])\n",
        "plt.plot(trained_model.history['val_loss'])\n",
        "plt.title('Model loss')\n",
        "plt.ylabel('Loss')\n",
        "plt.xlabel('Epoch')\n",
        "plt.legend(['Train', 'Test'], loc='upper left')\n",
        "plt.show()"
      ],
      "execution_count": 0,
      "outputs": [
        {
          "output_type": "display_data",
          "data": {
            "image/png": "[encoded data removed]",
            "text/plain": [
              "<Figure size 432x288 with 1 Axes>"
            ]
          },
          "metadata": {
            "tags": []
          }
        },
        {
          "output_type": "display_data",
          "data": {
            "image/png": "[encoded data removed]",
            "text/plain": [
              "<Figure size 432x288 with 1 Axes>"
            ]
          },
          "metadata": {
            "tags": []
          }
        }
      ]
    },
    {
      "cell_type": "markdown",
      "metadata": {
        "id": "roN0aTvvxPAv",
        "colab_type": "text"
      },
      "source": [
        "##Evaluating The Model (No Max Prediction Computed)"
      ]
    },
    {
      "cell_type": "code",
      "metadata": {
        "id": "EBJVDzWlnAjN",
        "colab_type": "code",
        "outputId": "617228fb-1af0-4744-92f0-c78882b5d25c",
        "colab": {
          "base_uri": "https://localhost:8080/",
          "height": 51
        }
      },
      "source": [
        "model.evaluate(X_test, y_test)"
      ],
      "execution_count": 0,
      "outputs": [
        {
          "output_type": "stream",
          "text": [
            "79266/79266 [==============================] - 14s 170us/step\n"
          ],
          "name": "stdout"
        },
        {
          "output_type": "execute_result",
          "data": {
            "text/plain": [
              "[1.6056487822094172, 0.5985668508566094]"
            ]
          },
          "metadata": {
            "tags": []
          },
          "execution_count": 64
        }
      ]
    },
    {
      "cell_type": "code",
      "metadata": {
        "id": "5XpBGaAJ5fPv",
        "colab_type": "code",
        "outputId": "9d48d169-b045-465d-8e41-84f9fecd2935",
        "colab": {
          "base_uri": "https://localhost:8080/",
          "height": 311
        }
      },
      "source": [
        "# Confusion matrix \n",
        "from sklearn.metrics import confusion_matrix\n",
        "import itertools\n",
        "\n",
        "def plot_confusion_matrix(cm, classes,\n",
        "                          normalize=False,\n",
        "                          title='Confusion matrix',\n",
        "                          cmap=plt.cm.Blues):\n",
        "  \n",
        "    plt.imshow(cm, interpolation='nearest', cmap=cmap)\n",
        "    plt.title(title)\n",
        "    plt.colorbar()\n",
        "    tick_marks = np.arange(len(classes))\n",
        "    plt.xticks(tick_marks, classes, rotation=45)\n",
        "    plt.yticks(tick_marks, classes)\n",
        "\n",
        "    if normalize:\n",
        "        cm = cm.astype('float') / cm.sum(axis=1)[:, np.newaxis]\n",
        "\n",
        "    thresh = cm.max() / 2.\n",
        "    for i, j in itertools.product(range(cm.shape[0]), range(cm.shape[1])):\n",
        "        plt.text(j, i, cm[i, j],\n",
        "                 horizontalalignment=\"center\",\n",
        "                 color=\"white\" if cm[i, j] > thresh else \"black\")\n",
        "\n",
        "    plt.tight_layout()\n",
        "    plt.ylabel('True label')\n",
        "    plt.xlabel('Predicted label')\n",
        "\n",
        "Y_pred = model.predict(X_test)\n",
        "Y_pred_classes = np.argmax(Y_pred,axis = 1) \n",
        "Y_true = np.argmax(y_test,axis = 1) \n",
        "confusion_mtx = confusion_matrix(Y_true, Y_pred_classes) \n",
        "plot_confusion_matrix(confusion_mtx, classes = CATEGORIES) "
      ],
      "execution_count": 0,
      "outputs": [
        {
          "output_type": "display_data",
          "data": {
            "image/png": "[encoded data removed]",
            "text/plain": [
              "<Figure size 432x288 with 2 Axes>"
            ]
          },
          "metadata": {
            "tags": []
          }
        }
      ]
    },
    {
      "cell_type": "markdown",
      "metadata": {
        "id": "ZmBfW1rmxkSf",
        "colab_type": "text"
      },
      "source": [
        "##Evaluating The Model Using Max Prediction"
      ]
    },
    {
      "cell_type": "code",
      "metadata": {
        "id": "cGIwT-w3ciek",
        "colab_type": "code",
        "colab": {}
      },
      "source": [
        "def cat(tupleOfArrays, axis=0):\n",
        "    assert isinstance(tupleOfArrays, tuple), 'first var should be tuple of arrays'\n",
        "\n",
        "    firstFlag = True\n",
        "    res = np.array([])\n",
        "    \n",
        "    for i in range(len(tupleOfArrays)):\n",
        "        x = tupleOfArrays[i]\n",
        "        if len(x) > 0: \n",
        "            if isinstance(x, list):  \n",
        "                x = np.array(x)\n",
        "            if x.ndim == 1: \n",
        "                x = x.reshape((1, -1))\n",
        "            if firstFlag: \n",
        "                res = x\n",
        "                firstFlag = False\n",
        "            else: \n",
        "                if axis == 0:\n",
        "                    assert res.shape[1] == x.shape[1], \"Error concating vertically element index \" + str(i) + \\\n",
        "                                                       \" with prior elements: given mat shapes are \" + \\\n",
        "                                                       str(res.shape) + \" & \" + str(x.shape)\n",
        "                else:  # axis == 1:\n",
        "                    assert res.shape[0] == x.shape[0], \"Error concating horizontally element index \" + str(i) + \\\n",
        "                                                       \" with prior elements: given mat shapes are \" + \\\n",
        "                                                       str(res.shape) + \" & \" + str(x.shape)\n",
        "\n",
        "                res = np.concatenate((res, x), axis=axis)\n",
        "    return res"
      ],
      "execution_count": 0,
      "outputs": []
    },
    {
      "cell_type": "code",
      "metadata": {
        "id": "cxUmhip4Kmfo",
        "colab_type": "code",
        "outputId": "8108d868-b209-45e7-ef97-ee05e807c168",
        "colab": {
          "base_uri": "https://localhost:8080/",
          "height": 34
        }
      },
      "source": [
        "y_test_max_prediction.shape"
      ],
      "execution_count": 0,
      "outputs": [
        {
          "output_type": "execute_result",
          "data": {
            "text/plain": [
              "(216,)"
            ]
          },
          "metadata": {
            "tags": []
          },
          "execution_count": 86
        }
      ]
    },
    {
      "cell_type": "code",
      "metadata": {
        "id": "1N9M0LY7gTxD",
        "colab_type": "code",
        "colab": {}
      },
      "source": [
        "preds = np.array([])\n",
        "pred_y = []\n",
        "i = 0\n",
        "for video_frames in X_test_max_prediction:\n",
        "  y_per_vid = np.array([])\n",
        "\n",
        "  if(len(video_frames.shape) == 3):\n",
        "    #y_per_vid = cat((y_per_vid, y_test_max_prediction[i]), axis=0)\n",
        "    p = model.predict(np.expand_dims(video_frames, axis=0))\n",
        "    \n",
        "  else:\n",
        "    #y_per_vid = cat((y_per_vid, y_test_max_prediction[i]), axis=0)\n",
        "    p = model.predict(video_frames)\n",
        "\n",
        "  results = np.array(p).max(axis=0)\n",
        "  index = np.argmax(results)\n",
        "  label = CATEGORIES[index]\n",
        "  pred_y.append(index)\n",
        "\n",
        "  #preds = cat((preds, p))\n",
        "  preds = np.append(preds, p)\n",
        "\n",
        "  i+=1\n",
        "\n",
        "pred_y = np.array(pred_y, dtype=np.str)"
      ],
      "execution_count": 0,
      "outputs": []
    },
    {
      "cell_type": "code",
      "metadata": {
        "id": "wwm26HHYiaIF",
        "colab_type": "code",
        "outputId": "9702af61-8ec0-49fb-ab43-78a1b6035fdf",
        "colab": {
          "base_uri": "https://localhost:8080/",
          "height": 34
        }
      },
      "source": [
        "preds.shape, pred_y.shape"
      ],
      "execution_count": 0,
      "outputs": [
        {
          "output_type": "execute_result",
          "data": {
            "text/plain": [
              "((475596,), (216,))"
            ]
          },
          "metadata": {
            "tags": []
          },
          "execution_count": 93
        }
      ]
    },
    {
      "cell_type": "code",
      "metadata": {
        "id": "sb0lRto7kfNO",
        "colab_type": "code",
        "outputId": "f273a4a7-bb90-45d0-ac30-39cfe6295512",
        "colab": {
          "base_uri": "https://localhost:8080/",
          "height": 34
        }
      },
      "source": [
        "y_test_per_video_classes = []\n",
        "_, y_test_per_video = read_ds(ds=\"test\", max_frames_per_video=1)\n",
        "y_test_per_video = to_categorical(y_test_per_video)\n",
        "\n",
        "for y in y_test_per_video:\n",
        "  index = np.argmax(y)\n",
        "  label = CATEGORIES[index]\n",
        "  y_test_per_video_classes.append(index)\n",
        "y_test_per_video_classes = np.array(y_test_per_video_classes, dtype=np.str)"
      ],
      "execution_count": 0,
      "outputs": [
        {
          "output_type": "stream",
          "text": [
            "total videos : 216\n"
          ],
          "name": "stdout"
        }
      ]
    },
    {
      "cell_type": "code",
      "metadata": {
        "id": "mD8YMTcpkVZW",
        "colab_type": "code",
        "outputId": "c4524859-f90c-4cf4-96da-c737d0c67ad6",
        "colab": {
          "base_uri": "https://localhost:8080/",
          "height": 311
        }
      },
      "source": [
        "confusion_mtx = confusion_matrix(y_test_per_video_classes, pred_y) \n",
        "plot_confusion_matrix(confusion_mtx, classes = CATEGORIES) "
      ],
      "execution_count": 0,
      "outputs": [
        {
          "output_type": "display_data",
          "data": {
            "image/png": "[encoded data removed]",
            "text/plain": [
              "<Figure size 432x288 with 2 Axes>"
            ]
          },
          "metadata": {
            "tags": []
          }
        }
      ]
    },
    {
      "cell_type": "code",
      "metadata": {
        "id": "Ug1s4t_AsgTM",
        "colab_type": "code",
        "outputId": "ccfb40b6-65b6-4fa3-ff54-2193b7d80794",
        "colab": {
          "base_uri": "https://localhost:8080/",
          "height": 34
        }
      },
      "source": [
        "y_test_per_video_classes.shape"
      ],
      "execution_count": 0,
      "outputs": [
        {
          "output_type": "execute_result",
          "data": {
            "text/plain": [
              "(216,)"
            ]
          },
          "metadata": {
            "tags": []
          },
          "execution_count": 96
        }
      ]
    },
    {
      "cell_type": "code",
      "metadata": {
        "id": "OJ_MP-nllQOJ",
        "colab_type": "code",
        "outputId": "6dcf2cd9-7783-48a2-cab6-74532dca9bef",
        "colab": {
          "base_uri": "https://localhost:8080/",
          "height": 34
        }
      },
      "source": [
        "i=0\n",
        "acc=0\n",
        "for y in pred_y:\n",
        "  if(y == y_test_per_video_classes[i]):\n",
        "    acc+=1\n",
        "  i+=1\n",
        "\n",
        "accuracy = acc / len(pred_y)\n",
        "print(\"Max Prediction Per Video Accuracy : %s\" % accuracy)"
      ],
      "execution_count": 0,
      "outputs": [
        {
          "output_type": "stream",
          "text": [
            "Max Prediction Per Video Accuracy : 0.5046296296296297\n"
          ],
          "name": "stdout"
        }
      ]
    },
    {
      "cell_type": "markdown",
      "metadata": {
        "id": "1a5hltyPyX2d",
        "colab_type": "text"
      },
      "source": [
        "##Saving The Model "
      ]
    },
    {
      "cell_type": "code",
      "metadata": {
        "id": "n1qpf7_inHmP",
        "colab_type": "code",
        "colab": {}
      },
      "source": [
        "model.save_weights('SingleFrameModel_KTH.h5')"
      ],
      "execution_count": 0,
      "outputs": []
    },
    {
      "cell_type": "code",
      "metadata": {
        "id": "Sqzz77lhnFbf",
        "colab_type": "code",
        "colab": {}
      },
      "source": [
        "plot_model(model, show_shapes=True, to_file='SingleFrameModel_KTH.png')"
      ],
      "execution_count": 0,
      "outputs": []
    }
  ]
}
